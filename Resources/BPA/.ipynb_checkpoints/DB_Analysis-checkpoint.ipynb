{
 "cells": [
  {
   "cell_type": "markdown",
   "metadata": {},
   "source": [
    "### Imports"
   ]
  },
  {
   "cell_type": "code",
   "execution_count": 12,
   "metadata": {},
   "outputs": [],
   "source": [
    "import sqlite3\n",
    "import pandas as pd\n",
    "import numpy as np\n",
    "import matplotlib.pyplot as plt\n",
    "\n",
    "from sklearn.feature_extraction.text import CountVectorizer\n",
    " \n",
    "from sklearn.feature_extraction.text import TfidfVectorizer\n",
    " \n",
    "from sklearn.metrics.pairwise import cosine_similarity\n",
    "\n",
    "%matplotlib inline"
   ]
  },
  {
   "cell_type": "markdown",
   "metadata": {},
   "source": [
    "### Loading our Data"
   ]
  },
  {
   "cell_type": "code",
   "execution_count": 6,
   "metadata": {},
   "outputs": [],
   "source": [
    "con = sqlite3.connect(\"RecipeDB.db\")\n",
    "#cur = con.cursor();\n",
    "\n",
    "sql = \"SELECT * FROM Recipe ;\"\n",
    "df = pd.read_sql(sql,con)\n",
    "df.index = df['recID']\n",
    "df = df.drop(['recID'],axis = 1)"
   ]
  },
  {
   "cell_type": "markdown",
   "metadata": {},
   "source": [
    "## A glance of the Data"
   ]
  },
  {
   "cell_type": "code",
   "execution_count": 7,
   "metadata": {},
   "outputs": [
    {
     "data": {
      "text/html": [
       "<div>\n",
       "<style scoped>\n",
       "    .dataframe tbody tr th:only-of-type {\n",
       "        vertical-align: middle;\n",
       "    }\n",
       "\n",
       "    .dataframe tbody tr th {\n",
       "        vertical-align: top;\n",
       "    }\n",
       "\n",
       "    .dataframe thead th {\n",
       "        text-align: right;\n",
       "    }\n",
       "</style>\n",
       "<table border=\"1\" class=\"dataframe\">\n",
       "  <thead>\n",
       "    <tr style=\"text-align: right;\">\n",
       "      <th></th>\n",
       "      <th>recName</th>\n",
       "      <th>recHeadline</th>\n",
       "      <th>recDisc</th>\n",
       "      <th>recDifficulty</th>\n",
       "      <th>recServingSize</th>\n",
       "      <th>recLink</th>\n",
       "      <th>recRating</th>\n",
       "      <th>recRatingCount</th>\n",
       "      <th>recSteps</th>\n",
       "      <th>recTime</th>\n",
       "    </tr>\n",
       "    <tr>\n",
       "      <th>recID</th>\n",
       "      <th></th>\n",
       "      <th></th>\n",
       "      <th></th>\n",
       "      <th></th>\n",
       "      <th></th>\n",
       "      <th></th>\n",
       "      <th></th>\n",
       "      <th></th>\n",
       "      <th></th>\n",
       "      <th></th>\n",
       "    </tr>\n",
       "  </thead>\n",
       "  <tbody>\n",
       "    <tr>\n",
       "      <th>53f45a29ff604dac328b456e</th>\n",
       "      <td>Pikante Paprika-Bratwurst Pfanne</td>\n",
       "      <td>auf Petersilien-Couscous</td>\n",
       "      <td>Dieses Gericht zaubert Dir nicht nur optisch A...</td>\n",
       "      <td>2</td>\n",
       "      <td>0</td>\n",
       "      <td>https://ddw4dkk7s1lkt.cloudfront.net/card/53f4...</td>\n",
       "      <td>3.1</td>\n",
       "      <td>765</td>\n",
       "      <td>6</td>\n",
       "      <td>35</td>\n",
       "    </tr>\n",
       "    <tr>\n",
       "      <th>5469feafff604d2c8b8b4569</th>\n",
       "      <td>Gnocchi-Paprika-Mozzarella Auflauf</td>\n",
       "      <td>verfeinert mit frischem Basilikum</td>\n",
       "      <td>Tu Dir was Gutes! Unser Soul Food hilft Dir, s...</td>\n",
       "      <td>1</td>\n",
       "      <td>600</td>\n",
       "      <td>https://ddw4dkk7s1lkt.cloudfront.net/card/gnoc...</td>\n",
       "      <td>2.8</td>\n",
       "      <td>1012</td>\n",
       "      <td>6</td>\n",
       "      <td>30</td>\n",
       "    </tr>\n",
       "    <tr>\n",
       "      <th>54c91e3e6ced6e5f178b4571</th>\n",
       "      <td>Steak mit gebratenen Topinambur-Kartoffelecken</td>\n",
       "      <td>Rosmarin und Lauchcremesoße</td>\n",
       "      <td>Topinambur kann man roh oder gegart essen, und...</td>\n",
       "      <td>2</td>\n",
       "      <td>0</td>\n",
       "      <td>https://ddw4dkk7s1lkt.cloudfront.net/card/54c9...</td>\n",
       "      <td>3.3</td>\n",
       "      <td>1186</td>\n",
       "      <td>7</td>\n",
       "      <td>40</td>\n",
       "    </tr>\n",
       "    <tr>\n",
       "      <th>54c91e716ced6e39178b456c</th>\n",
       "      <td>Hähnchenoberkeule auf Ofengemüse</td>\n",
       "      <td>verfeinert mit Sesam und Erdnusssoße</td>\n",
       "      <td>Kohlenhydratarm und proteinreich! Vor allem Pr...</td>\n",
       "      <td>2</td>\n",
       "      <td>0</td>\n",
       "      <td>https://ddw4dkk7s1lkt.cloudfront.net/card/54c9...</td>\n",
       "      <td>3.3</td>\n",
       "      <td>1194</td>\n",
       "      <td>7</td>\n",
       "      <td>30</td>\n",
       "    </tr>\n",
       "    <tr>\n",
       "      <th>54c91ed56ced6e5f178b4572</th>\n",
       "      <td>Valentinstagsquiche</td>\n",
       "      <td>mit zweifarbigen Karotten, Zucchini und Rucola...</td>\n",
       "      <td>Der Valentinstag! Für viele wohl eine Erfindun...</td>\n",
       "      <td>3</td>\n",
       "      <td>0</td>\n",
       "      <td>https://ddw4dkk7s1lkt.cloudfront.net/card/54c9...</td>\n",
       "      <td>2.6</td>\n",
       "      <td>1407</td>\n",
       "      <td>8</td>\n",
       "      <td>30</td>\n",
       "    </tr>\n",
       "  </tbody>\n",
       "</table>\n",
       "</div>"
      ],
      "text/plain": [
       "                                                                 recName  \\\n",
       "recID                                                                      \n",
       "53f45a29ff604dac328b456e                Pikante Paprika-Bratwurst Pfanne   \n",
       "5469feafff604d2c8b8b4569              Gnocchi-Paprika-Mozzarella Auflauf   \n",
       "54c91e3e6ced6e5f178b4571  Steak mit gebratenen Topinambur-Kartoffelecken   \n",
       "54c91e716ced6e39178b456c                Hähnchenoberkeule auf Ofengemüse   \n",
       "54c91ed56ced6e5f178b4572                             Valentinstagsquiche   \n",
       "\n",
       "                                                                recHeadline  \\\n",
       "recID                                                                         \n",
       "53f45a29ff604dac328b456e                           auf Petersilien-Couscous   \n",
       "5469feafff604d2c8b8b4569                  verfeinert mit frischem Basilikum   \n",
       "54c91e3e6ced6e5f178b4571                        Rosmarin und Lauchcremesoße   \n",
       "54c91e716ced6e39178b456c               verfeinert mit Sesam und Erdnusssoße   \n",
       "54c91ed56ced6e5f178b4572  mit zweifarbigen Karotten, Zucchini und Rucola...   \n",
       "\n",
       "                                                                    recDisc  \\\n",
       "recID                                                                         \n",
       "53f45a29ff604dac328b456e  Dieses Gericht zaubert Dir nicht nur optisch A...   \n",
       "5469feafff604d2c8b8b4569  Tu Dir was Gutes! Unser Soul Food hilft Dir, s...   \n",
       "54c91e3e6ced6e5f178b4571  Topinambur kann man roh oder gegart essen, und...   \n",
       "54c91e716ced6e39178b456c  Kohlenhydratarm und proteinreich! Vor allem Pr...   \n",
       "54c91ed56ced6e5f178b4572  Der Valentinstag! Für viele wohl eine Erfindun...   \n",
       "\n",
       "                          recDifficulty  recServingSize  \\\n",
       "recID                                                     \n",
       "53f45a29ff604dac328b456e              2               0   \n",
       "5469feafff604d2c8b8b4569              1             600   \n",
       "54c91e3e6ced6e5f178b4571              2               0   \n",
       "54c91e716ced6e39178b456c              2               0   \n",
       "54c91ed56ced6e5f178b4572              3               0   \n",
       "\n",
       "                                                                    recLink  \\\n",
       "recID                                                                         \n",
       "53f45a29ff604dac328b456e  https://ddw4dkk7s1lkt.cloudfront.net/card/53f4...   \n",
       "5469feafff604d2c8b8b4569  https://ddw4dkk7s1lkt.cloudfront.net/card/gnoc...   \n",
       "54c91e3e6ced6e5f178b4571  https://ddw4dkk7s1lkt.cloudfront.net/card/54c9...   \n",
       "54c91e716ced6e39178b456c  https://ddw4dkk7s1lkt.cloudfront.net/card/54c9...   \n",
       "54c91ed56ced6e5f178b4572  https://ddw4dkk7s1lkt.cloudfront.net/card/54c9...   \n",
       "\n",
       "                          recRating  recRatingCount  recSteps  recTime  \n",
       "recID                                                                   \n",
       "53f45a29ff604dac328b456e        3.1             765         6       35  \n",
       "5469feafff604d2c8b8b4569        2.8            1012         6       30  \n",
       "54c91e3e6ced6e5f178b4571        3.3            1186         7       40  \n",
       "54c91e716ced6e39178b456c        3.3            1194         7       30  \n",
       "54c91ed56ced6e5f178b4572        2.6            1407         8       30  "
      ]
     },
     "execution_count": 7,
     "metadata": {},
     "output_type": "execute_result"
    }
   ],
   "source": [
    "df.head()"
   ]
  },
  {
   "cell_type": "code",
   "execution_count": 22,
   "metadata": {},
   "outputs": [
    {
     "data": {
      "text/plain": [
       "(1897, 10)"
      ]
     },
     "execution_count": 22,
     "metadata": {},
     "output_type": "execute_result"
    }
   ],
   "source": [
    "df.shape"
   ]
  },
  {
   "cell_type": "code",
   "execution_count": 23,
   "metadata": {},
   "outputs": [
    {
     "name": "stdout",
     "output_type": "stream",
     "text": [
      "<class 'pandas.core.frame.DataFrame'>\n",
      "Index: 1897 entries, 53f45a29ff604dac328b456e to 5c30c44ec445fa3dbb5a80b2\n",
      "Data columns (total 10 columns):\n",
      " #   Column          Non-Null Count  Dtype  \n",
      "---  ------          --------------  -----  \n",
      " 0   recName         1897 non-null   object \n",
      " 1   recHeadline     1897 non-null   object \n",
      " 2   recDisc         1897 non-null   object \n",
      " 3   recDifficulty   1897 non-null   int64  \n",
      " 4   recServingSize  1897 non-null   int64  \n",
      " 5   recLink         1897 non-null   object \n",
      " 6   recRating       1897 non-null   float64\n",
      " 7   recRatingCount  1897 non-null   int64  \n",
      " 8   recSteps        1897 non-null   int64  \n",
      " 9   recTime         1897 non-null   int64  \n",
      "dtypes: float64(1), int64(5), object(4)\n",
      "memory usage: 243.0+ KB\n"
     ]
    }
   ],
   "source": [
    "df.info()"
   ]
  },
  {
   "cell_type": "code",
   "execution_count": 24,
   "metadata": {},
   "outputs": [
    {
     "data": {
      "text/html": [
       "<div>\n",
       "<style scoped>\n",
       "    .dataframe tbody tr th:only-of-type {\n",
       "        vertical-align: middle;\n",
       "    }\n",
       "\n",
       "    .dataframe tbody tr th {\n",
       "        vertical-align: top;\n",
       "    }\n",
       "\n",
       "    .dataframe thead th {\n",
       "        text-align: right;\n",
       "    }\n",
       "</style>\n",
       "<table border=\"1\" class=\"dataframe\">\n",
       "  <thead>\n",
       "    <tr style=\"text-align: right;\">\n",
       "      <th></th>\n",
       "      <th>recDifficulty</th>\n",
       "      <th>recServingSize</th>\n",
       "      <th>recRating</th>\n",
       "      <th>recRatingCount</th>\n",
       "      <th>recSteps</th>\n",
       "      <th>recTime</th>\n",
       "    </tr>\n",
       "  </thead>\n",
       "  <tbody>\n",
       "    <tr>\n",
       "      <th>count</th>\n",
       "      <td>1897.000000</td>\n",
       "      <td>1897.000000</td>\n",
       "      <td>1897.000000</td>\n",
       "      <td>1897.000000</td>\n",
       "      <td>1897.000000</td>\n",
       "      <td>1897.000000</td>\n",
       "    </tr>\n",
       "    <tr>\n",
       "      <th>mean</th>\n",
       "      <td>1.672114</td>\n",
       "      <td>351.470743</td>\n",
       "      <td>3.024829</td>\n",
       "      <td>491.638904</td>\n",
       "      <td>5.946231</td>\n",
       "      <td>38.483922</td>\n",
       "    </tr>\n",
       "    <tr>\n",
       "      <th>std</th>\n",
       "      <td>0.621373</td>\n",
       "      <td>331.467402</td>\n",
       "      <td>0.868404</td>\n",
       "      <td>488.070676</td>\n",
       "      <td>1.031803</td>\n",
       "      <td>16.209106</td>\n",
       "    </tr>\n",
       "    <tr>\n",
       "      <th>min</th>\n",
       "      <td>0.000000</td>\n",
       "      <td>0.000000</td>\n",
       "      <td>0.000000</td>\n",
       "      <td>0.000000</td>\n",
       "      <td>1.000000</td>\n",
       "      <td>10.000000</td>\n",
       "    </tr>\n",
       "    <tr>\n",
       "      <th>25%</th>\n",
       "      <td>1.000000</td>\n",
       "      <td>0.000000</td>\n",
       "      <td>3.100000</td>\n",
       "      <td>80.000000</td>\n",
       "      <td>6.000000</td>\n",
       "      <td>30.000000</td>\n",
       "    </tr>\n",
       "    <tr>\n",
       "      <th>50%</th>\n",
       "      <td>2.000000</td>\n",
       "      <td>450.000000</td>\n",
       "      <td>3.300000</td>\n",
       "      <td>351.000000</td>\n",
       "      <td>6.000000</td>\n",
       "      <td>30.000000</td>\n",
       "    </tr>\n",
       "    <tr>\n",
       "      <th>75%</th>\n",
       "      <td>2.000000</td>\n",
       "      <td>650.000000</td>\n",
       "      <td>3.400000</td>\n",
       "      <td>742.000000</td>\n",
       "      <td>6.000000</td>\n",
       "      <td>40.000000</td>\n",
       "    </tr>\n",
       "    <tr>\n",
       "      <th>max</th>\n",
       "      <td>3.000000</td>\n",
       "      <td>1500.000000</td>\n",
       "      <td>3.800000</td>\n",
       "      <td>3049.000000</td>\n",
       "      <td>10.000000</td>\n",
       "      <td>180.000000</td>\n",
       "    </tr>\n",
       "  </tbody>\n",
       "</table>\n",
       "</div>"
      ],
      "text/plain": [
       "       recDifficulty  recServingSize    recRating  recRatingCount  \\\n",
       "count    1897.000000     1897.000000  1897.000000     1897.000000   \n",
       "mean        1.672114      351.470743     3.024829      491.638904   \n",
       "std         0.621373      331.467402     0.868404      488.070676   \n",
       "min         0.000000        0.000000     0.000000        0.000000   \n",
       "25%         1.000000        0.000000     3.100000       80.000000   \n",
       "50%         2.000000      450.000000     3.300000      351.000000   \n",
       "75%         2.000000      650.000000     3.400000      742.000000   \n",
       "max         3.000000     1500.000000     3.800000     3049.000000   \n",
       "\n",
       "          recSteps      recTime  \n",
       "count  1897.000000  1897.000000  \n",
       "mean      5.946231    38.483922  \n",
       "std       1.031803    16.209106  \n",
       "min       1.000000    10.000000  \n",
       "25%       6.000000    30.000000  \n",
       "50%       6.000000    30.000000  \n",
       "75%       6.000000    40.000000  \n",
       "max      10.000000   180.000000  "
      ]
     },
     "execution_count": 24,
     "metadata": {},
     "output_type": "execute_result"
    }
   ],
   "source": [
    "df.describe()"
   ]
  },
  {
   "cell_type": "code",
   "execution_count": 16,
   "metadata": {},
   "outputs": [],
   "source": [
    "test_df = df\n",
    "\n",
    "#func to normalize text\n",
    "def process_text(text):\n",
    "    #replace muliple spaces with one\n",
    "    test = ''.join(text.split())\n",
    "    #lowercase\n",
    "    text = text.lower()\n",
    "    return text\n",
    "\n",
    "test_df['recDisc'] = test_df.apply(lambda x: process_text(x.recDisc),axis= 1)\n",
    "\n",
    "tf_idf = TfidfVectorizer()\n",
    "t_matrix = tf_idf.fit_transform(test_df['recDisc'])"
   ]
  },
  {
   "cell_type": "code",
   "execution_count": 21,
   "metadata": {},
   "outputs": [
    {
     "data": {
      "text/plain": [
       "(1897, 1897)"
      ]
     },
     "execution_count": 21,
     "metadata": {},
     "output_type": "execute_result"
    }
   ],
   "source": [
    "csm = cosine_similarity(t_matrix,t_matrix)\n",
    "csm.shape"
   ]
  }
 ],
 "metadata": {
  "kernelspec": {
   "display_name": "Python 3",
   "language": "python",
   "name": "python3"
  },
  "language_info": {
   "codemirror_mode": {
    "name": "ipython",
    "version": 3
   },
   "file_extension": ".py",
   "mimetype": "text/x-python",
   "name": "python",
   "nbconvert_exporter": "python",
   "pygments_lexer": "ipython3",
   "version": "3.7.6"
  }
 },
 "nbformat": 4,
 "nbformat_minor": 4
}
