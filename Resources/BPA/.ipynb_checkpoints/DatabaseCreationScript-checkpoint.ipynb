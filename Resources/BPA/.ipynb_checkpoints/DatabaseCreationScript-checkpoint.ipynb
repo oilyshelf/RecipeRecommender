{
 "cells": [
  {
   "cell_type": "markdown",
   "metadata": {},
   "source": [
    "# Database for the Recipies "
   ]
  },
  {
   "cell_type": "markdown",
   "metadata": {},
   "source": [
    "Import all the Important Modules"
   ]
  },
  {
   "cell_type": "code",
   "execution_count": 1,
   "metadata": {},
   "outputs": [],
   "source": [
    "import json\n",
    "import os\n",
    "import sqlite3"
   ]
  },
  {
   "cell_type": "code",
   "execution_count": 2,
   "metadata": {},
   "outputs": [],
   "source": [
    "#connection to DB\n",
    "con = sqlite3.connect(\"RecipeDB.db\")\n",
    "\n",
    "#create cursor\n",
    "cursor = con.cursor()"
   ]
  },
  {
   "cell_type": "markdown",
   "metadata": {},
   "source": [
    "![alt text](Database.png \"Datenbank\")\n"
   ]
  },
  {
   "cell_type": "markdown",
   "metadata": {},
   "source": [
    "Creating the Database\n"
   ]
  },
  {
   "cell_type": "code",
   "execution_count": 2,
   "metadata": {
    "scrolled": false
   },
   "outputs": [
    {
     "data": {
      "text/plain": [
       "<sqlite3.Cursor at 0x26a27c965e0>"
      ]
     },
     "execution_count": 2,
     "metadata": {},
     "output_type": "execute_result"
    }
   ],
   "source": [
    "\n",
    "\n",
    "#Recipe Table\n",
    "sql = \"\"\"\n",
    "CREATE TABLE Recipe(\n",
    "recID TEXT PRIMARY KEY NOT NULL,\n",
    "recName TEXT,\n",
    "recHeadline TEXT,\n",
    "recDisc BLOB,\n",
    "recDifficulty INT,\n",
    "recPrepTime TEXT, \n",
    "recTotalTime TEXT,\n",
    "recServingSize INT,\n",
    "recLink TEXT,\n",
    "recRating REAL,\n",
    "recRatingCount INT,\n",
    "recSteps INT\n",
    ");\n",
    "\"\"\"\n",
    "\n",
    "cursor.execute(sql)\n",
    "\n",
    "#IngredientFamily Table\n",
    "\n",
    "sql = \"\"\"\n",
    "CREATE TABLE IngFamily(\n",
    "familyID TEXT PRIMARY KEY NOT NULL,\n",
    "familyName TEXT\n",
    ");\n",
    "\n",
    "\"\"\"\n",
    "\n",
    "cursor.execute(sql)\n",
    "\n",
    "#Ingredients TAble\n",
    "sql = \"\"\"\n",
    "CREATE TABLE Ingredients(\n",
    "ingID TEXT PRIMARY KEY NOT NULL,\n",
    "ingName TEXT NOT NULL,\n",
    "familyID TEXT NOT NULL,\n",
    "FOREIGN KEY(familyID) REFERENCES IngFamily(familyID)\n",
    ");\n",
    "\n",
    "\"\"\"\n",
    "\n",
    "cursor.execute(sql)\n",
    "\n",
    "\n",
    "#Ingredients in Recipe Table\n",
    "sql = \"\"\"\n",
    "CREATE TABLE IngInRec(\n",
    "ingID TEXT NOT NULL,\n",
    "recID TEXT NOT NULL,\n",
    "amount INT,\n",
    "unit TEXT,\n",
    "PRIMARY KEY(ingID, recID),\n",
    "FOREIGN KEY (ingID) REFERENCES Ingredients(ingID),\n",
    "FOREIGN KEY (recID) REFERENCES Recipe(recID)\n",
    ");\n",
    "\n",
    "\"\"\"\n",
    "cursor.execute(sql)\n",
    "\n",
    "#Nutartion Table plus NutrInRec\n",
    "sql = \"\"\"\n",
    "CREATE TABLE Nutrations(\n",
    "nType TEXT PRIMARY KEY NOT NULL,\n",
    "nName TEXT NOT NULL\n",
    ");\n",
    "\"\"\"\n",
    "\n",
    "cursor.execute(sql)\n",
    "\n",
    "sql = \"\"\"\n",
    "CREATE TABLE NutrInRec(\n",
    "nType TEXT NOT NULL,\n",
    "recID TEXT NOT NULL,\n",
    "amount INT,\n",
    "unit TEXT,\n",
    "PRIMARY KEY(nType, recID),\n",
    "FOREIGN KEY (nType) REFERENCES Nutration(nType),\n",
    "FOREIGN KEY (recID) REFERENCES Recipe(recID)\n",
    ");\n",
    "\"\"\"\n",
    "\n",
    "cursor.execute(sql)\n",
    "\n",
    "\n",
    "#Tags and TagsInRecipe\n",
    "\n",
    "sql = \"\"\"\n",
    "CREATE TABLE Tags(\n",
    "tagID TEXT PRIMARY KEY NOT NULL,\n",
    "tagName TEXT,\n",
    "tagSlug TEXT\n",
    ");\n",
    "\n",
    "\"\"\"\n",
    "\n",
    "cursor.execute(sql)\n",
    "\n",
    "sql = \"\"\"\n",
    "CREATE TABLE TagsInRec(\n",
    "tagID TEXT NOT NULL,\n",
    "recID TEXT NOT NULL,\n",
    "PRIMARY KEY (tagID, recID),\n",
    "FOREIGN KEY (tagID) REFERENCES Tags(tagID),\n",
    "FOREIGN KEY (recID) REFERENCES Recipe(recID)\n",
    ");\n",
    "\n",
    "\"\"\"\n",
    "\n",
    "cursor.execute(sql)\n",
    "\n",
    "#Allergens and it´s conTable\n",
    "sql = \"\"\"\n",
    "CREATE TABLE Allergens(\n",
    "alleID TEXT PRIMARY KEY NOT NULL,\n",
    "alleType TEXT,\n",
    "alleName TEXT,\n",
    "alleSlug TEXT,\n",
    "alleDisc BLOP,\n",
    "allTraces BOOLEAN NOT NULL CHECK(allTraces IN (0,1)),\n",
    "triggersTracesOf BOOLEAN NOT NULL CHECK(triggersTracesOf IN (0,1))\n",
    "\n",
    ");\n",
    "\n",
    "\"\"\"\n",
    "cursor.execute(sql)\n",
    "\n",
    "sql = \"\"\"\n",
    "CREATE TABLE AlleInRec(\n",
    "alleID TEXT NOT NULL,\n",
    "recID TEXT NOT NULL,\n",
    "PRIMARY KEY (alleID,recID),\n",
    "FOREIGN KEY (alleID) REFERENCES Allergens(alleID),\n",
    "FOREIGN KEY (recID) REFERENCES Recipe(recID)\n",
    "\n",
    ");\n",
    "\n",
    "\"\"\"\n",
    "cursor.execute(sql)\n",
    "\n",
    "#steps table\n",
    "sql = \"\"\"\n",
    "CREATE TABLE StepsInRec(\n",
    "recID TEXT NOT NULL,\n",
    "stepIndex INT NOT NULL,\n",
    "stepDisc BLOP,\n",
    "PRIMARY KEY (recID, stepIndex),\n",
    "FOREIGN KEY (recID) REFERENCES Recipe(recID)\n",
    ");\n",
    "\"\"\"\n",
    "cursor.execute(sql)"
   ]
  },
  {
   "cell_type": "markdown",
   "metadata": {},
   "source": [
    "Inserting the Date from the JSON files"
   ]
  },
  {
   "cell_type": "code",
   "execution_count": 3,
   "metadata": {},
   "outputs": [
    {
     "name": "stdout",
     "output_type": "stream",
     "text": [
      "0\n"
     ]
    }
   ],
   "source": [
    "\n",
    "test = cursor.execute(\"\"\" SELECT * FROM Recipe WHERE recID = '554b1a294dab71a6058b4570' \"\"\").fetchall()\n",
    "print(len(test))"
   ]
  },
  {
   "cell_type": "code",
   "execution_count": 1,
   "metadata": {},
   "outputs": [
    {
     "name": "stdout",
     "output_type": "stream",
     "text": [
      "TODO\n"
     ]
    }
   ],
   "source": [
    "path = os.getcwd()+\"/rezepte\"\n",
    "recipe_check = \"\"\" SELECT * FROM Recipe WHERE recID = ? ;\"\"\"\n",
    "ingFamCheck = \"\"\"SELECT * FROM IngFamily WHERE familyID = ? ;\"\"\"\n",
    "ing_check = \"\"\" SELECT * FROM Ingredients WHERE ingID = ? ;\"\"\"\n",
    "Nutr_check = \"\"\"SELECT * FROM Nutration WHERE nType = ? ;\"\"\"\n",
    "allg_check = \"\"\" SELECT * FROM Allergens WHERE alleID = ? ; \"\"\"\n",
    "tag_check = \"\"\"SELCT * FROM Tags WHERE tagID = ? ;\"\"\"\n",
    "without = 0\n",
    "for f in os.listdir(path):\n",
    "    with open(os.path.join(path,f), encoding = 'utf8') as file:\n",
    "        data = json.load(file)\n",
    "        #check if recipe has ingredients\n",
    "        if not data['ingredients']:\n",
    "            without += 1\n",
    "            continue\n",
    "        #check if recipeID is already in DB\n",
    "        if len(cursor.execute(recipe_check,(data['id'],)).fetchall()):\n",
    "            without -= -1\n",
    "            continue;\n",
    "        \n",
    "        \n",
    "        \n",
    "\n"
   ]
  }
 ],
 "metadata": {
  "kernelspec": {
   "display_name": "Python 3",
   "language": "python",
   "name": "python3"
  },
  "language_info": {
   "codemirror_mode": {
    "name": "ipython",
    "version": 3
   },
   "file_extension": ".py",
   "mimetype": "text/x-python",
   "name": "python",
   "nbconvert_exporter": "python",
   "pygments_lexer": "ipython3",
   "version": "3.7.6"
  }
 },
 "nbformat": 4,
 "nbformat_minor": 4
}
