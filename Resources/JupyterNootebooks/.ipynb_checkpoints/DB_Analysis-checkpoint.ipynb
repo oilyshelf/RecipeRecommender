{
 "cells": [
  {
   "cell_type": "markdown",
   "metadata": {},
   "source": [
    "### Imports"
   ]
  },
  {
   "cell_type": "code",
   "execution_count": 1,
   "metadata": {},
   "outputs": [],
   "source": [
    "import sqlite3\n",
    "import pandas as pd\n",
    "import numpy as np\n",
    "import matplotlib.pyplot as plt\n",
    "import os\n",
    "\n",
    "from sklearn.feature_extraction.text import CountVectorizer\n",
    " \n",
    "from sklearn.feature_extraction.text import TfidfVectorizer\n",
    " \n",
    "from sklearn.metrics.pairwise import cosine_similarity\n",
    "\n",
    "%matplotlib inline"
   ]
  },
  {
   "cell_type": "markdown",
   "metadata": {},
   "source": [
    "### Loading our Data"
   ]
  },
  {
   "cell_type": "markdown",
   "metadata": {},
   "source": [
    "Eine Verbindung zur Datenbank wird hergestellt und es wird ein Dataframe aus der Datenbank abgeleitet."
   ]
  },
  {
   "cell_type": "code",
   "execution_count": 2,
   "metadata": {},
   "outputs": [],
   "source": [
    "path = os.path.realpath('../Data')\n",
    "con = sqlite3.connect(path+\"/RecipeDB.db\")\n",
    "#cur = con.cursor();\n",
    "\n",
    "sql = \"SELECT * FROM Recipe ;\"\n",
    "df = pd.read_sql(sql,con)\n",
    "df.index = df['recID']\n",
    "df = df.drop(['recID'],axis = 1)"
   ]
  },
  {
   "cell_type": "markdown",
   "metadata": {},
   "source": [
    "## A glance of the Data"
   ]
  },
  {
   "cell_type": "markdown",
   "metadata": {},
   "source": [
    "Im folgenden werden grobe Analysemethoden angewendet um ein besseres Verständnis über die Daten generieren zu können"
   ]
  },
  {
   "cell_type": "code",
   "execution_count": 3,
   "metadata": {},
   "outputs": [
    {
     "data": {
      "text/html": [
       "<div>\n",
       "<style scoped>\n",
       "    .dataframe tbody tr th:only-of-type {\n",
       "        vertical-align: middle;\n",
       "    }\n",
       "\n",
       "    .dataframe tbody tr th {\n",
       "        vertical-align: top;\n",
       "    }\n",
       "\n",
       "    .dataframe thead th {\n",
       "        text-align: right;\n",
       "    }\n",
       "</style>\n",
       "<table border=\"1\" class=\"dataframe\">\n",
       "  <thead>\n",
       "    <tr style=\"text-align: right;\">\n",
       "      <th></th>\n",
       "      <th>recName</th>\n",
       "      <th>recHeadline</th>\n",
       "      <th>recDisc</th>\n",
       "      <th>recDifficulty</th>\n",
       "      <th>recServingSize</th>\n",
       "      <th>recLink</th>\n",
       "      <th>recRating</th>\n",
       "      <th>recRatingCount</th>\n",
       "      <th>recSteps</th>\n",
       "      <th>recTime</th>\n",
       "    </tr>\n",
       "    <tr>\n",
       "      <th>recID</th>\n",
       "      <th></th>\n",
       "      <th></th>\n",
       "      <th></th>\n",
       "      <th></th>\n",
       "      <th></th>\n",
       "      <th></th>\n",
       "      <th></th>\n",
       "      <th></th>\n",
       "      <th></th>\n",
       "      <th></th>\n",
       "    </tr>\n",
       "  </thead>\n",
       "  <tbody>\n",
       "    <tr>\n",
       "      <th>53f45a29ff604dac328b456e</th>\n",
       "      <td>Pikante Paprika-Bratwurst Pfanne</td>\n",
       "      <td>auf Petersilien-Couscous</td>\n",
       "      <td>Dieses Gericht zaubert Dir nicht nur optisch A...</td>\n",
       "      <td>2</td>\n",
       "      <td>0</td>\n",
       "      <td>https://ddw4dkk7s1lkt.cloudfront.net/card/53f4...</td>\n",
       "      <td>3.1</td>\n",
       "      <td>765</td>\n",
       "      <td>6</td>\n",
       "      <td>35</td>\n",
       "    </tr>\n",
       "    <tr>\n",
       "      <th>5469feafff604d2c8b8b4569</th>\n",
       "      <td>Gnocchi-Paprika-Mozzarella Auflauf</td>\n",
       "      <td>verfeinert mit frischem Basilikum</td>\n",
       "      <td>Tu Dir was Gutes! Unser Soul Food hilft Dir, s...</td>\n",
       "      <td>1</td>\n",
       "      <td>600</td>\n",
       "      <td>https://ddw4dkk7s1lkt.cloudfront.net/card/gnoc...</td>\n",
       "      <td>2.8</td>\n",
       "      <td>1012</td>\n",
       "      <td>6</td>\n",
       "      <td>30</td>\n",
       "    </tr>\n",
       "    <tr>\n",
       "      <th>54c91e3e6ced6e5f178b4571</th>\n",
       "      <td>Steak mit gebratenen Topinambur-Kartoffelecken</td>\n",
       "      <td>Rosmarin und Lauchcremesoße</td>\n",
       "      <td>Topinambur kann man roh oder gegart essen, und...</td>\n",
       "      <td>2</td>\n",
       "      <td>0</td>\n",
       "      <td>https://ddw4dkk7s1lkt.cloudfront.net/card/54c9...</td>\n",
       "      <td>3.3</td>\n",
       "      <td>1186</td>\n",
       "      <td>7</td>\n",
       "      <td>40</td>\n",
       "    </tr>\n",
       "    <tr>\n",
       "      <th>54c91e716ced6e39178b456c</th>\n",
       "      <td>Hähnchenoberkeule auf Ofengemüse</td>\n",
       "      <td>verfeinert mit Sesam und Erdnusssoße</td>\n",
       "      <td>Kohlenhydratarm und proteinreich! Vor allem Pr...</td>\n",
       "      <td>2</td>\n",
       "      <td>0</td>\n",
       "      <td>https://ddw4dkk7s1lkt.cloudfront.net/card/54c9...</td>\n",
       "      <td>3.3</td>\n",
       "      <td>1194</td>\n",
       "      <td>7</td>\n",
       "      <td>30</td>\n",
       "    </tr>\n",
       "    <tr>\n",
       "      <th>54c91ed56ced6e5f178b4572</th>\n",
       "      <td>Valentinstagsquiche</td>\n",
       "      <td>mit zweifarbigen Karotten, Zucchini und Rucola...</td>\n",
       "      <td>Der Valentinstag! Für viele wohl eine Erfindun...</td>\n",
       "      <td>3</td>\n",
       "      <td>0</td>\n",
       "      <td>https://ddw4dkk7s1lkt.cloudfront.net/card/54c9...</td>\n",
       "      <td>2.6</td>\n",
       "      <td>1407</td>\n",
       "      <td>8</td>\n",
       "      <td>30</td>\n",
       "    </tr>\n",
       "  </tbody>\n",
       "</table>\n",
       "</div>"
      ],
      "text/plain": [
       "                                                                 recName  \\\n",
       "recID                                                                      \n",
       "53f45a29ff604dac328b456e                Pikante Paprika-Bratwurst Pfanne   \n",
       "5469feafff604d2c8b8b4569              Gnocchi-Paprika-Mozzarella Auflauf   \n",
       "54c91e3e6ced6e5f178b4571  Steak mit gebratenen Topinambur-Kartoffelecken   \n",
       "54c91e716ced6e39178b456c                Hähnchenoberkeule auf Ofengemüse   \n",
       "54c91ed56ced6e5f178b4572                             Valentinstagsquiche   \n",
       "\n",
       "                                                                recHeadline  \\\n",
       "recID                                                                         \n",
       "53f45a29ff604dac328b456e                           auf Petersilien-Couscous   \n",
       "5469feafff604d2c8b8b4569                  verfeinert mit frischem Basilikum   \n",
       "54c91e3e6ced6e5f178b4571                        Rosmarin und Lauchcremesoße   \n",
       "54c91e716ced6e39178b456c               verfeinert mit Sesam und Erdnusssoße   \n",
       "54c91ed56ced6e5f178b4572  mit zweifarbigen Karotten, Zucchini und Rucola...   \n",
       "\n",
       "                                                                    recDisc  \\\n",
       "recID                                                                         \n",
       "53f45a29ff604dac328b456e  Dieses Gericht zaubert Dir nicht nur optisch A...   \n",
       "5469feafff604d2c8b8b4569  Tu Dir was Gutes! Unser Soul Food hilft Dir, s...   \n",
       "54c91e3e6ced6e5f178b4571  Topinambur kann man roh oder gegart essen, und...   \n",
       "54c91e716ced6e39178b456c  Kohlenhydratarm und proteinreich! Vor allem Pr...   \n",
       "54c91ed56ced6e5f178b4572  Der Valentinstag! Für viele wohl eine Erfindun...   \n",
       "\n",
       "                          recDifficulty  recServingSize  \\\n",
       "recID                                                     \n",
       "53f45a29ff604dac328b456e              2               0   \n",
       "5469feafff604d2c8b8b4569              1             600   \n",
       "54c91e3e6ced6e5f178b4571              2               0   \n",
       "54c91e716ced6e39178b456c              2               0   \n",
       "54c91ed56ced6e5f178b4572              3               0   \n",
       "\n",
       "                                                                    recLink  \\\n",
       "recID                                                                         \n",
       "53f45a29ff604dac328b456e  https://ddw4dkk7s1lkt.cloudfront.net/card/53f4...   \n",
       "5469feafff604d2c8b8b4569  https://ddw4dkk7s1lkt.cloudfront.net/card/gnoc...   \n",
       "54c91e3e6ced6e5f178b4571  https://ddw4dkk7s1lkt.cloudfront.net/card/54c9...   \n",
       "54c91e716ced6e39178b456c  https://ddw4dkk7s1lkt.cloudfront.net/card/54c9...   \n",
       "54c91ed56ced6e5f178b4572  https://ddw4dkk7s1lkt.cloudfront.net/card/54c9...   \n",
       "\n",
       "                          recRating  recRatingCount  recSteps  recTime  \n",
       "recID                                                                   \n",
       "53f45a29ff604dac328b456e        3.1             765         6       35  \n",
       "5469feafff604d2c8b8b4569        2.8            1012         6       30  \n",
       "54c91e3e6ced6e5f178b4571        3.3            1186         7       40  \n",
       "54c91e716ced6e39178b456c        3.3            1194         7       30  \n",
       "54c91ed56ced6e5f178b4572        2.6            1407         8       30  "
      ]
     },
     "execution_count": 3,
     "metadata": {},
     "output_type": "execute_result"
    }
   ],
   "source": [
    "df.head()"
   ]
  },
  {
   "cell_type": "markdown",
   "metadata": {},
   "source": [
    "Nachdem ersichtlich war, dass der Name, die Headline und die Beschreibung für zukünftiges Arbeiten eine bedeutende Rolle spielen könnten, wird ein Dataframe erstellt, welches nur die RezeptID und einen String, bestehend aus diesen drei Attributen, enthält."
   ]
  },
  {
   "cell_type": "code",
   "execution_count": 5,
   "metadata": {},
   "outputs": [
    {
     "data": {
      "text/html": [
       "<div>\n",
       "<style scoped>\n",
       "    .dataframe tbody tr th:only-of-type {\n",
       "        vertical-align: middle;\n",
       "    }\n",
       "\n",
       "    .dataframe tbody tr th {\n",
       "        vertical-align: top;\n",
       "    }\n",
       "\n",
       "    .dataframe thead th {\n",
       "        text-align: right;\n",
       "    }\n",
       "</style>\n",
       "<table border=\"1\" class=\"dataframe\">\n",
       "  <thead>\n",
       "    <tr style=\"text-align: right;\">\n",
       "      <th></th>\n",
       "      <th>recString</th>\n",
       "    </tr>\n",
       "    <tr>\n",
       "      <th>recID</th>\n",
       "      <th></th>\n",
       "    </tr>\n",
       "  </thead>\n",
       "  <tbody>\n",
       "    <tr>\n",
       "      <th>53f45a29ff604dac328b456e</th>\n",
       "      <td>Pikante Paprika-Bratwurst Pfanne auf Petersili...</td>\n",
       "    </tr>\n",
       "    <tr>\n",
       "      <th>5469feafff604d2c8b8b4569</th>\n",
       "      <td>Gnocchi-Paprika-Mozzarella Auflauf verfeinert ...</td>\n",
       "    </tr>\n",
       "    <tr>\n",
       "      <th>54c91e3e6ced6e5f178b4571</th>\n",
       "      <td>Steak mit gebratenen Topinambur-Kartoffelecken...</td>\n",
       "    </tr>\n",
       "    <tr>\n",
       "      <th>54c91e716ced6e39178b456c</th>\n",
       "      <td>Hähnchenoberkeule auf Ofengemüse verfeinert mi...</td>\n",
       "    </tr>\n",
       "    <tr>\n",
       "      <th>54c91ed56ced6e5f178b4572</th>\n",
       "      <td>Valentinstagsquiche mit zweifarbigen Karotten,...</td>\n",
       "    </tr>\n",
       "    <tr>\n",
       "      <th>...</th>\n",
       "      <td>...</td>\n",
       "    </tr>\n",
       "    <tr>\n",
       "      <th>5c30b8a7c445fa33f45d3002</th>\n",
       "      <td>Mildes gelbes Curry mit Limette, Kichererbsen ...</td>\n",
       "    </tr>\n",
       "    <tr>\n",
       "      <th>5c30bb90c445fa36747c59b2</th>\n",
       "      <td>Hello Mole! Feuriges Chili con Carne mit gebac...</td>\n",
       "    </tr>\n",
       "    <tr>\n",
       "      <th>5c30c098e3f33962d2048221</th>\n",
       "      <td>3-Gänge-Valentinstags Menü mit Auberginen-Carp...</td>\n",
       "    </tr>\n",
       "    <tr>\n",
       "      <th>5c30c1bbc445fa3bc376fc02</th>\n",
       "      <td>Cremiges Schweinegeschnetzeltes mit Paprika, C...</td>\n",
       "    </tr>\n",
       "    <tr>\n",
       "      <th>5c30c44ec445fa3dbb5a80b2</th>\n",
       "      <td>Hähnchen-Burger mit geschmolzenem Käse dazu Ka...</td>\n",
       "    </tr>\n",
       "  </tbody>\n",
       "</table>\n",
       "<p>1897 rows × 1 columns</p>\n",
       "</div>"
      ],
      "text/plain": [
       "                                                                  recString\n",
       "recID                                                                      \n",
       "53f45a29ff604dac328b456e  Pikante Paprika-Bratwurst Pfanne auf Petersili...\n",
       "5469feafff604d2c8b8b4569  Gnocchi-Paprika-Mozzarella Auflauf verfeinert ...\n",
       "54c91e3e6ced6e5f178b4571  Steak mit gebratenen Topinambur-Kartoffelecken...\n",
       "54c91e716ced6e39178b456c  Hähnchenoberkeule auf Ofengemüse verfeinert mi...\n",
       "54c91ed56ced6e5f178b4572  Valentinstagsquiche mit zweifarbigen Karotten,...\n",
       "...                                                                     ...\n",
       "5c30b8a7c445fa33f45d3002  Mildes gelbes Curry mit Limette, Kichererbsen ...\n",
       "5c30bb90c445fa36747c59b2  Hello Mole! Feuriges Chili con Carne mit gebac...\n",
       "5c30c098e3f33962d2048221  3-Gänge-Valentinstags Menü mit Auberginen-Carp...\n",
       "5c30c1bbc445fa3bc376fc02  Cremiges Schweinegeschnetzeltes mit Paprika, C...\n",
       "5c30c44ec445fa3dbb5a80b2  Hähnchen-Burger mit geschmolzenem Käse dazu Ka...\n",
       "\n",
       "[1897 rows x 1 columns]"
      ]
     },
     "execution_count": 5,
     "metadata": {},
     "output_type": "execute_result"
    }
   ],
   "source": [
    "df2 = df.assign(recString = df.recName.astype(str) + \" \" + df.recHeadline.astype(str) + \" \" +  df.recDisc.astype(str))\n",
    "df2 = df2[[\"recString\"]]\n",
    "df2"
   ]
  },
  {
   "cell_type": "code",
   "execution_count": 6,
   "metadata": {},
   "outputs": [
    {
     "name": "stdout",
     "output_type": "stream",
     "text": [
      "Pikante Paprika-Bratwurst Pfanne auf Petersilien-Couscous Dieses Gericht zaubert Dir nicht nur optisch Abwechslung auf Deinen Teller, sondern überzeugt auch auf geschmacklicher Ebene voll und ganz! Die Bratwurst sorgt für eine pikant-würzige Note, Paprika und Petersilie bringen Frische und Farbe in das Gericht. Lass es Dir schmecken!\n"
     ]
    }
   ],
   "source": [
    "print(df2.iloc[0][\"recString\"])"
   ]
  },
  {
   "cell_type": "code",
   "execution_count": 7,
   "metadata": {},
   "outputs": [
    {
     "data": {
      "text/plain": [
       "(1897, 10)"
      ]
     },
     "execution_count": 7,
     "metadata": {},
     "output_type": "execute_result"
    }
   ],
   "source": [
    "df.shape"
   ]
  },
  {
   "cell_type": "code",
   "execution_count": 8,
   "metadata": {},
   "outputs": [
    {
     "name": "stdout",
     "output_type": "stream",
     "text": [
      "<class 'pandas.core.frame.DataFrame'>\n",
      "Index: 1897 entries, 53f45a29ff604dac328b456e to 5c30c44ec445fa3dbb5a80b2\n",
      "Data columns (total 10 columns):\n",
      " #   Column          Non-Null Count  Dtype  \n",
      "---  ------          --------------  -----  \n",
      " 0   recName         1897 non-null   object \n",
      " 1   recHeadline     1897 non-null   object \n",
      " 2   recDisc         1897 non-null   object \n",
      " 3   recDifficulty   1897 non-null   int64  \n",
      " 4   recServingSize  1897 non-null   int64  \n",
      " 5   recLink         1897 non-null   object \n",
      " 6   recRating       1897 non-null   float64\n",
      " 7   recRatingCount  1897 non-null   int64  \n",
      " 8   recSteps        1897 non-null   int64  \n",
      " 9   recTime         1897 non-null   int64  \n",
      "dtypes: float64(1), int64(5), object(4)\n",
      "memory usage: 163.0+ KB\n"
     ]
    }
   ],
   "source": [
    "df.info()"
   ]
  },
  {
   "cell_type": "code",
   "execution_count": 9,
   "metadata": {},
   "outputs": [
    {
     "data": {
      "text/html": [
       "<div>\n",
       "<style scoped>\n",
       "    .dataframe tbody tr th:only-of-type {\n",
       "        vertical-align: middle;\n",
       "    }\n",
       "\n",
       "    .dataframe tbody tr th {\n",
       "        vertical-align: top;\n",
       "    }\n",
       "\n",
       "    .dataframe thead th {\n",
       "        text-align: right;\n",
       "    }\n",
       "</style>\n",
       "<table border=\"1\" class=\"dataframe\">\n",
       "  <thead>\n",
       "    <tr style=\"text-align: right;\">\n",
       "      <th></th>\n",
       "      <th>recDifficulty</th>\n",
       "      <th>recServingSize</th>\n",
       "      <th>recRating</th>\n",
       "      <th>recRatingCount</th>\n",
       "      <th>recSteps</th>\n",
       "      <th>recTime</th>\n",
       "    </tr>\n",
       "  </thead>\n",
       "  <tbody>\n",
       "    <tr>\n",
       "      <th>count</th>\n",
       "      <td>1897.000000</td>\n",
       "      <td>1897.000000</td>\n",
       "      <td>1897.000000</td>\n",
       "      <td>1897.000000</td>\n",
       "      <td>1897.000000</td>\n",
       "      <td>1897.000000</td>\n",
       "    </tr>\n",
       "    <tr>\n",
       "      <th>mean</th>\n",
       "      <td>1.672114</td>\n",
       "      <td>351.470743</td>\n",
       "      <td>3.024829</td>\n",
       "      <td>491.638904</td>\n",
       "      <td>5.946231</td>\n",
       "      <td>38.483922</td>\n",
       "    </tr>\n",
       "    <tr>\n",
       "      <th>std</th>\n",
       "      <td>0.621373</td>\n",
       "      <td>331.467402</td>\n",
       "      <td>0.868404</td>\n",
       "      <td>488.070676</td>\n",
       "      <td>1.031803</td>\n",
       "      <td>16.209106</td>\n",
       "    </tr>\n",
       "    <tr>\n",
       "      <th>min</th>\n",
       "      <td>0.000000</td>\n",
       "      <td>0.000000</td>\n",
       "      <td>0.000000</td>\n",
       "      <td>0.000000</td>\n",
       "      <td>1.000000</td>\n",
       "      <td>10.000000</td>\n",
       "    </tr>\n",
       "    <tr>\n",
       "      <th>25%</th>\n",
       "      <td>1.000000</td>\n",
       "      <td>0.000000</td>\n",
       "      <td>3.100000</td>\n",
       "      <td>80.000000</td>\n",
       "      <td>6.000000</td>\n",
       "      <td>30.000000</td>\n",
       "    </tr>\n",
       "    <tr>\n",
       "      <th>50%</th>\n",
       "      <td>2.000000</td>\n",
       "      <td>450.000000</td>\n",
       "      <td>3.300000</td>\n",
       "      <td>351.000000</td>\n",
       "      <td>6.000000</td>\n",
       "      <td>30.000000</td>\n",
       "    </tr>\n",
       "    <tr>\n",
       "      <th>75%</th>\n",
       "      <td>2.000000</td>\n",
       "      <td>650.000000</td>\n",
       "      <td>3.400000</td>\n",
       "      <td>742.000000</td>\n",
       "      <td>6.000000</td>\n",
       "      <td>40.000000</td>\n",
       "    </tr>\n",
       "    <tr>\n",
       "      <th>max</th>\n",
       "      <td>3.000000</td>\n",
       "      <td>1500.000000</td>\n",
       "      <td>3.800000</td>\n",
       "      <td>3049.000000</td>\n",
       "      <td>10.000000</td>\n",
       "      <td>180.000000</td>\n",
       "    </tr>\n",
       "  </tbody>\n",
       "</table>\n",
       "</div>"
      ],
      "text/plain": [
       "       recDifficulty  recServingSize    recRating  recRatingCount  \\\n",
       "count    1897.000000     1897.000000  1897.000000     1897.000000   \n",
       "mean        1.672114      351.470743     3.024829      491.638904   \n",
       "std         0.621373      331.467402     0.868404      488.070676   \n",
       "min         0.000000        0.000000     0.000000        0.000000   \n",
       "25%         1.000000        0.000000     3.100000       80.000000   \n",
       "50%         2.000000      450.000000     3.300000      351.000000   \n",
       "75%         2.000000      650.000000     3.400000      742.000000   \n",
       "max         3.000000     1500.000000     3.800000     3049.000000   \n",
       "\n",
       "          recSteps      recTime  \n",
       "count  1897.000000  1897.000000  \n",
       "mean      5.946231    38.483922  \n",
       "std       1.031803    16.209106  \n",
       "min       1.000000    10.000000  \n",
       "25%       6.000000    30.000000  \n",
       "50%       6.000000    30.000000  \n",
       "75%       6.000000    40.000000  \n",
       "max      10.000000   180.000000  "
      ]
     },
     "execution_count": 9,
     "metadata": {},
     "output_type": "execute_result"
    }
   ],
   "source": [
    "df.describe()"
   ]
  },
  {
   "cell_type": "markdown",
   "metadata": {},
   "source": [
    "Einige Verbesserungen zu den Strings der Daten, da multiple leerzeichen oder ähnliches vorkommt. Dies hilft auch dabei, duplikate besser ausfindig zu machen."
   ]
  },
  {
   "cell_type": "code",
   "execution_count": 13,
   "metadata": {},
   "outputs": [],
   "source": [
    "test_df = df2\n",
    "\n",
    "#func to normalize text\n",
    "def process_text(text):\n",
    "    #replace muliple spaces with one\n",
    "    test = ''.join(text.split())\n",
    "    #lowercase\n",
    "    text = text.lower()\n",
    "    return text\n",
    "\n",
    "test_df['recString'] = test_df.apply(lambda x: process_text(x.recString),axis= 1)\n",
    "\n",
    "tf_idf = TfidfVectorizer()\n",
    "t_matrix = tf_idf.fit_transform(test_df['recString'])"
   ]
  },
  {
   "cell_type": "code",
   "execution_count": 14,
   "metadata": {},
   "outputs": [
    {
     "name": "stdout",
     "output_type": "stream",
     "text": [
      "  (0, 5776)\t0.06740373136612401\n",
      "  (0, 1698)\t0.057490913101850755\n",
      "  (0, 4035)\t0.06866168924941524\n",
      "  (0, 1190)\t0.06283010613672314\n",
      "  (0, 3293)\t0.06057803526875432\n",
      "  (0, 1785)\t0.15617131534658524\n",
      "  (0, 2052)\t0.12428345188763232\n",
      "  (0, 904)\t0.13575810158605048\n",
      "  (0, 5023)\t0.17303928049590012\n",
      "  (0, 4742)\t0.13682299494652206\n",
      "  (0, 7546)\t0.13472532050431393\n",
      "  (0, 5073)\t0.17746495166891982\n",
      "  (0, 1418)\t0.07846593028199017\n",
      "  (0, 2175)\t0.07043152334186649\n",
      "  (0, 6157)\t0.12210418840362008\n",
      "  (0, 1272)\t0.051145534734789236\n",
      "  (0, 2188)\t0.09824589028449551\n",
      "  (0, 6814)\t0.10488730864425878\n",
      "  (0, 7139)\t0.1710239162424008\n",
      "  (0, 1374)\t0.26905804816703355\n",
      "  (0, 2524)\t0.26905804816703355\n",
      "  (0, 340)\t0.07807448246937693\n",
      "  (0, 7862)\t0.20240807487654203\n",
      "  (0, 6129)\t0.13180163378864673\n",
      "  (0, 6564)\t0.11149661900008886\n",
      "  :\t:\n",
      "  (1896, 6068)\t0.049958254173768056\n",
      "  (1896, 1234)\t0.08025980137189388\n",
      "  (1896, 6077)\t0.09248466776143963\n",
      "  (1896, 2329)\t0.0810830497643409\n",
      "  (1896, 7418)\t0.040749206328640236\n",
      "  (1896, 6033)\t0.056235305149749365\n",
      "  (1896, 1591)\t0.08201782970509731\n",
      "  (1896, 1705)\t0.13219882191153845\n",
      "  (1896, 3473)\t0.073885526535389\n",
      "  (1896, 1245)\t0.03530716804250821\n",
      "  (1896, 3362)\t0.03669855470719977\n",
      "  (1896, 3907)\t0.07642434937238264\n",
      "  (1896, 2671)\t0.053267358807574924\n",
      "  (1896, 7658)\t0.04350846682151989\n",
      "  (1896, 1423)\t0.05851744233042716\n",
      "  (1896, 7260)\t0.13328713149075666\n",
      "  (1896, 4485)\t0.020294127270757908\n",
      "  (1896, 1698)\t0.06667148960655149\n",
      "  (1896, 3293)\t0.07025158639680824\n",
      "  (1896, 2175)\t0.040839276357829093\n",
      "  (1896, 1272)\t0.05931283403780632\n",
      "  (1896, 6814)\t0.040545498009085884\n",
      "  (1896, 340)\t0.045270998194724965\n",
      "  (1896, 4707)\t0.05138980985923887\n",
      "  (1896, 341)\t0.03938896742628369\n"
     ]
    }
   ],
   "source": [
    "print(t_matrix)"
   ]
  },
  {
   "cell_type": "code",
   "execution_count": 16,
   "metadata": {},
   "outputs": [
    {
     "data": {
      "text/plain": [
       "array([[1.        , 0.05064999, 0.06558585, ..., 0.02977284, 0.06001188,\n",
       "        0.03436752],\n",
       "       [0.05064999, 1.        , 0.02035793, ..., 0.03224958, 0.02916769,\n",
       "        0.06602383],\n",
       "       [0.06558585, 0.02035793, 1.        , ..., 0.04216951, 0.02522387,\n",
       "        0.063693  ],\n",
       "       ...,\n",
       "       [0.02977284, 0.03224958, 0.04216951, ..., 1.        , 0.0347608 ,\n",
       "        0.02095068],\n",
       "       [0.06001188, 0.02916769, 0.02522387, ..., 0.0347608 , 1.        ,\n",
       "        0.07400313],\n",
       "       [0.03436752, 0.06602383, 0.063693  , ..., 0.02095068, 0.07400313,\n",
       "        1.        ]])"
      ]
     },
     "execution_count": 16,
     "metadata": {},
     "output_type": "execute_result"
    }
   ],
   "source": [
    "csm = cosine_similarity(t_matrix,t_matrix)\n",
    "csm\n"
   ]
  }
 ],
 "metadata": {
  "kernelspec": {
   "display_name": "Python 3",
   "language": "python",
   "name": "python3"
  },
  "language_info": {
   "codemirror_mode": {
    "name": "ipython",
    "version": 3
   },
   "file_extension": ".py",
   "mimetype": "text/x-python",
   "name": "python",
   "nbconvert_exporter": "python",
   "pygments_lexer": "ipython3",
   "version": "3.7.6"
  }
 },
 "nbformat": 4,
 "nbformat_minor": 4
}
