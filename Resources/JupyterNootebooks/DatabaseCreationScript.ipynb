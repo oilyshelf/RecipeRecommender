{
 "cells": [
  {
   "cell_type": "markdown",
   "metadata": {},
   "source": [
    "# Database for the Recipies "
   ]
  },
  {
   "cell_type": "markdown",
   "metadata": {},
   "source": [
    "Die benötigten Module werden importiert."
   ]
  },
  {
   "cell_type": "code",
   "execution_count": 2,
   "metadata": {},
   "outputs": [],
   "source": [
    "import json\n",
    "import os\n",
    "import sqlite3"
   ]
  },
  {
   "cell_type": "markdown",
   "metadata": {},
   "source": [
    "Verbindung zur Datenbank wird hergestellt."
   ]
  },
  {
   "cell_type": "code",
   "execution_count": 2,
   "metadata": {},
   "outputs": [],
   "source": [
    "#connection to DB\n",
    "path = os.path.realpath('../Data')\n",
    "con = sqlite3.connect(path+\"/RecipeDB.db\")\n",
    "\n",
    "#create cursor\n",
    "cursor = con.cursor()"
   ]
  },
  {
   "cell_type": "markdown",
   "metadata": {},
   "source": [
    "Diagramm der Datenbank"
   ]
  },
  {
   "cell_type": "markdown",
   "metadata": {},
   "source": [
    "![alt text](../BPA/Database.png \"Datenbank\")\n"
   ]
  },
  {
   "cell_type": "markdown",
   "metadata": {},
   "source": [
    "Erstellung der Datenbank\n"
   ]
  },
  {
   "cell_type": "code",
   "execution_count": 3,
   "metadata": {},
   "outputs": [
    {
     "data": {
      "text/plain": [
       "<sqlite3.Cursor at 0x272e4246650>"
      ]
     },
     "execution_count": 3,
     "metadata": {},
     "output_type": "execute_result"
    }
   ],
   "source": [
    "\n",
    "\n",
    "#Recipe Table\n",
    "sql = \"\"\"\n",
    "CREATE TABLE Recipe(\n",
    "recID TEXT PRIMARY KEY NOT NULL,\n",
    "recName TEXT,\n",
    "recHeadline TEXT,\n",
    "recDisc BLOB,\n",
    "recDifficulty INT,\n",
    "recPrepTime TEXT, \n",
    "recTotalTime TEXT,\n",
    "recServingSize INT,\n",
    "recLink TEXT,\n",
    "recRating REAL,\n",
    "recRatingCount INT,\n",
    "recSteps INT\n",
    ");\n",
    "\"\"\"\n",
    "\n",
    "cursor.execute(sql)\n",
    "\n",
    "#IngredientFamily Table\n",
    "\n",
    "sql = \"\"\"\n",
    "CREATE TABLE IngFamily(\n",
    "familyID TEXT PRIMARY KEY NOT NULL,\n",
    "familyName TEXT\n",
    ");\n",
    "\n",
    "\"\"\"\n",
    "\n",
    "cursor.execute(sql)\n",
    "\n",
    "#Ingredients TAble\n",
    "sql = \"\"\"\n",
    "CREATE TABLE Ingredients(\n",
    "ingID TEXT PRIMARY KEY NOT NULL,\n",
    "ingName TEXT NOT NULL,\n",
    "familyID TEXT NOT NULL,\n",
    "FOREIGN KEY(familyID) REFERENCES IngFamily(familyID)\n",
    ");\n",
    "\n",
    "\"\"\"\n",
    "\n",
    "cursor.execute(sql)\n",
    "\n",
    "\n",
    "#Ingredients in Recipe Table\n",
    "sql = \"\"\"\n",
    "CREATE TABLE IngInRec(\n",
    "ingID TEXT NOT NULL,\n",
    "recID TEXT NOT NULL,\n",
    "amount REAL,\n",
    "unit TEXT,\n",
    "PRIMARY KEY(ingID, recID),\n",
    "FOREIGN KEY (ingID) REFERENCES Ingredients(ingID),\n",
    "FOREIGN KEY (recID) REFERENCES Recipe(recID)\n",
    ");\n",
    "\n",
    "\"\"\"\n",
    "cursor.execute(sql)\n",
    "\n",
    "#Nutartion Table plus NutrInRec\n",
    "sql = \"\"\"\n",
    "CREATE TABLE Nutrations(\n",
    "nType TEXT PRIMARY KEY NOT NULL,\n",
    "nName TEXT NOT NULL\n",
    ");\n",
    "\"\"\"\n",
    "\n",
    "cursor.execute(sql)\n",
    "\n",
    "sql = \"\"\"\n",
    "CREATE TABLE NutrInRec(\n",
    "nType TEXT NOT NULL,\n",
    "recID TEXT NOT NULL,\n",
    "amount INT,\n",
    "unit TEXT,\n",
    "PRIMARY KEY(nType, recID),\n",
    "FOREIGN KEY (nType) REFERENCES Nutration(nType),\n",
    "FOREIGN KEY (recID) REFERENCES Recipe(recID)\n",
    ");\n",
    "\"\"\"\n",
    "\n",
    "cursor.execute(sql)\n",
    "\n",
    "\n",
    "#Tags and TagsInRecipe\n",
    "\n",
    "sql = \"\"\"\n",
    "CREATE TABLE Tags(\n",
    "tagID TEXT PRIMARY KEY NOT NULL,\n",
    "tagName TEXT,\n",
    "tagType TEXT\n",
    ");\n",
    "\n",
    "\"\"\"\n",
    "\n",
    "cursor.execute(sql)\n",
    "\n",
    "sql = \"\"\"\n",
    "CREATE TABLE TagsInRec(\n",
    "tagID TEXT NOT NULL,\n",
    "recID TEXT NOT NULL,\n",
    "PRIMARY KEY (tagID, recID),\n",
    "FOREIGN KEY (tagID) REFERENCES Tags(tagID),\n",
    "FOREIGN KEY (recID) REFERENCES Recipe(recID)\n",
    ");\n",
    "\n",
    "\"\"\"\n",
    "\n",
    "cursor.execute(sql)\n",
    "\n",
    "#Allergens and it´s conTable\n",
    "sql = \"\"\"\n",
    "CREATE TABLE Allergens(\n",
    "alleID TEXT PRIMARY KEY NOT NULL,\n",
    "alleType TEXT,\n",
    "alleName TEXT,\n",
    "alleSlug TEXT,\n",
    "alleDisc BLOP,\n",
    "allTraces BOOLEAN NOT NULL CHECK(allTraces IN (0,1)),\n",
    "triggersTracesOf BOOLEAN NOT NULL CHECK(triggersTracesOf IN (0,1))\n",
    "\n",
    ");\n",
    "\n",
    "\"\"\"\n",
    "cursor.execute(sql)\n",
    "\n",
    "sql = \"\"\"\n",
    "CREATE TABLE AlleInRec(\n",
    "alleID TEXT NOT NULL,\n",
    "recID TEXT NOT NULL,\n",
    "PRIMARY KEY (alleID,recID),\n",
    "FOREIGN KEY (alleID) REFERENCES Allergens(alleID),\n",
    "FOREIGN KEY (recID) REFERENCES Recipe(recID)\n",
    "\n",
    ");\n",
    "\n",
    "\"\"\"\n",
    "cursor.execute(sql)\n",
    "\n",
    "#steps table\n",
    "sql = \"\"\"\n",
    "CREATE TABLE StepsInRec(\n",
    "recID TEXT NOT NULL,\n",
    "stepIndex INT NOT NULL,\n",
    "stepDisc BLOP,\n",
    "PRIMARY KEY (recID, stepIndex),\n",
    "FOREIGN KEY (recID) REFERENCES Recipe(recID)\n",
    ");\n",
    "\"\"\"\n",
    "cursor.execute(sql)"
   ]
  },
  {
   "cell_type": "markdown",
   "metadata": {},
   "source": [
    "Inserting the Date from the JSON files"
   ]
  },
  {
   "cell_type": "code",
   "execution_count": 4,
   "metadata": {},
   "outputs": [
    {
     "data": {
      "text/plain": [
       "<sqlite3.Cursor at 0x272e4246650>"
      ]
     },
     "execution_count": 4,
     "metadata": {},
     "output_type": "execute_result"
    }
   ],
   "source": [
    "#adding empty Ingredient family to Ingredients without Familys\n",
    "cursor.execute(\"\"\"INSERT INTO IngFamily VALUES (?,?);\"\"\",(\"000x404\",\"NoFamily\"))"
   ]
  },
  {
   "cell_type": "code",
   "execution_count": 5,
   "metadata": {},
   "outputs": [
    {
     "name": "stdout",
     "output_type": "stream",
     "text": [
      "Done\n",
      "951\n"
     ]
    }
   ],
   "source": [
    "path = os.path.realpath('../BPA/Rezepte')\n",
    "#sql to check if there is * already in DB\n",
    "recipe_check = \"\"\" SELECT * FROM Recipe WHERE recID = ? ;\"\"\"\n",
    "ingFamCheck = \"\"\"SELECT * FROM IngFamily WHERE familyID = ? ;\"\"\"\n",
    "ing_check = \"\"\" SELECT * FROM Ingredients WHERE ingID = ? ;\"\"\"\n",
    "Nutr_check = \"\"\"SELECT * FROM Nutrations WHERE nType = ? ;\"\"\"\n",
    "allg_check = \"\"\" SELECT * FROM Allergens WHERE alleID = ? ; \"\"\"\n",
    "tag_check = \"\"\"SELECT * FROM Tags WHERE tagID = ? ;\"\"\"\n",
    "#Because of some errors in the json some ingredients,tags,allergies or nutritons are doubled. therefore another check.\n",
    "iir_check = \"\"\"SELECT * FROM IngInRec WHERE recID = ? AND ingID = ? ;\"\"\"\n",
    "air_check = \"\"\"SELECT * FROM AlleInRec WHERE recID = ? AND alleID = ? ;\"\"\"\n",
    "nir_check = \"\"\"SELECT * FROM NutrInRec WHERE recID = ? AND nType = ? ;\"\"\"\n",
    "tir_check = \"\"\"SELECT * FROM TagsInRec WHERE recID = ? AND tagID = ? ;\"\"\"\n",
    "\n",
    "#insert sql\n",
    "recipe_sql =\"\"\" INSERT INTO Recipe VALUES (?,?,?,?,?,?,?,?,?,?,?,?);\"\"\" \n",
    "ingFam_sql = \"\"\"INSERT INTO IngFamily VALUES (?,?);\"\"\"\n",
    "ing_sql = \"\"\"INSERT INTO Ingredients VALUES (?,?,?);\"\"\" \n",
    "alle_sql = \"\"\"INSERT INTO Allergens VALUES (?,?,?,?,?,?,?);\"\"\" \n",
    "nutr_sql = \"\"\"INSERT INTO Nutrations VALUES (?,?);\"\"\"\n",
    "tags_sql = \"\"\"INSERT INTO Tags VALUES (?,?,?);\"\"\" \n",
    "steps_sql = \"\"\"INSERT INTO StepsInRec VALUES (?,?,?);\"\"\" \n",
    "air_sql = \"\"\"INSERT INTO AlleInRec VALUES (?,?);\"\"\"\n",
    "iir_sql = \"\"\"INSERT INTO IngInRec VALUES (?,?,?,?);\"\"\"\n",
    "nir_sql = \"\"\"INSERT INTO NutrInRec VALUES (?,?,?,?);\"\"\"\n",
    "tir_sql = \"\"\"INSERT INTO TagsInRec VALUES (?,?);\"\"\" \n",
    "\n",
    "\n",
    "\n",
    "with_errors = []\n",
    "\n",
    "without = 0\n",
    "for f in os.listdir(path):\n",
    "    with open(os.path.join(path,f), encoding = 'utf8') as file:\n",
    "        data = json.load(file)\n",
    "        break\n",
    "        #check if recipe has ingredients\n",
    "        if not data['ingredients']:\n",
    "            without += 1\n",
    "            continue\n",
    "            \n",
    "        #check if recipeID is already in DB\n",
    "        if len(cursor.execute(recipe_check,(data['id'],)).fetchall()):\n",
    "            without -= -1\n",
    "            continue\n",
    "        try:\n",
    "            #add recipe\n",
    "            temp = (data['id'],data['name'],data['headline'],data['description'],data['difficulty'],data['prepTime'],data['totalTime'],data['servingSize'],data['cardLink'],data['averageRating'], data['ratingsCount'],len(data['steps']))\n",
    "            cursor.execute(recipe_sql, temp)\n",
    "            #add ingredients and all its tables\n",
    "\n",
    "            for ing in data['ingredients']:\n",
    "                if len(cursor.execute(ing_check,(ing['id'],)).fetchall()):\n",
    "                    continue\n",
    "                # TODO somehow there is a NoneType in some json find a solution bruuuuuuuuuuuuh\n",
    "                fam = ing['family']\n",
    "                fam_id = fam['id'] if fam['id'] else \"000x404\"\n",
    "                if not len(cursor.execute(ingFamCheck,(fam_id,)).fetchall()):\n",
    "                    temp = (fam_id,fam['name'])\n",
    "                    cursor.execute(ingFam_sql,temp)\n",
    "\n",
    "                temp = (ing['id'],ing['name'],ing['family']['id'])\n",
    "                cursor.execute(ing_sql,temp)\n",
    "\n",
    "            #make a check cuz the ingriedients per recipe arent unique bruuuuuuuuuuuuuuuuuuh\n",
    "            y = data['yields'][0]\n",
    "            div = int(y['yields'])\n",
    "            for ing in y['ingredients']:\n",
    "                if len(cursor.execute(iir_check,(data['id'],ing['id'])).fetchall()):\n",
    "                    continue\n",
    "                #print(ing)\n",
    "                am = int(ing['amount']) if ing['amount'] else 0\n",
    "                am /= div\n",
    "                temp = (ing['id'],data['id'],am,ing['unit'])\n",
    "                cursor.execute(iir_sql,temp)\n",
    "\n",
    "            #nutr\n",
    "            for n in data['nutrition']:\n",
    "                if len(cursor.execute(nir_check,(data['id'],n['type'])).fetchall()):\n",
    "                    continue\n",
    "                if not len(cursor.execute(Nutr_check,(n['type'],)).fetchall()):\n",
    "                    cursor.execute(nutr_sql,(n['type'],n['name']))\n",
    "                cursor.execute(nir_sql,(n['type'],data['id'],n['amount'],n['unit']))\n",
    "\n",
    "            #Tags\n",
    "            for t in data['tags']:\n",
    "                if len(cursor.execute(tir_check,(data['id'],t['id'])).fetchall()):\n",
    "                    continue\n",
    "                if not len(cursor.execute(tag_check,(t['id'],)).fetchall()):\n",
    "                    cursor.execute(tags_sql,(t['id'],t['name'],t['type']))\n",
    "                cursor.execute(tir_sql,(t['id'],data['id']))\n",
    "\n",
    "            #Allergens\n",
    "            for a in data['allergens']:\n",
    "                if len(cursor.execute(air_check,(data['id'],a['id'])).fetchall()):\n",
    "                    continue\n",
    "                if not len(cursor.execute(allg_check,(a['id'],)).fetchall()):\n",
    "                    cursor.execute(alle_sql,(a['id'],a['type'],a['name'],a['slug'],a['description'],a['tracesOf'],a['triggersTracesOf']))\n",
    "                cursor.execute(air_sql,(a['id'],data['id']))\n",
    "\n",
    "\n",
    "            #Steps\n",
    "            for s in data['steps']:\n",
    "                cursor.execute(steps_sql,(data['id'],s['index'],s['instructions']))\n",
    "        except:\n",
    "            without += 1\n",
    "            with_errors.append(data['id'])\n",
    "        con.commit()\n",
    "            \n",
    "cursor.close()\n",
    "print(\"Done\")\n",
    "print(without)\n",
    "        \n",
    "        \n",
    "\n"
   ]
  },
  {
   "cell_type": "code",
   "execution_count": 8,
   "metadata": {},
   "outputs": [
    {
     "name": "stdout",
     "output_type": "stream",
     "text": [
      "['58199291cc7bd017060ec982', '5819a35ba7c72a6f4365fab2', '58e4c619c9fd0811a1393472', '58f9ef0dd56afa303c36bd72', '5904a5f6d56afa549c1e9e82', '5904afecd56afa4470503d22', '5904b004c6243b58251ddbc3', '5906ddad3bddb53aa50c4be2', '5906e3cb99052d4e7d211ba2', '5906e3dc2310a8705045ec62', '5906e3ebd0d6bd6cbf3f5842', '590b54ca3bddb523cd05f873', '591318ef2310a8334f5fb3e2', '592432ffd56afa3f767bee42', '5927e8fd99052d4c916c7632', '5927f1ccc9fd082e3d545812', '59316d8ad56afa25ec12c452', '593fdd7c51d3f16b371c23b2', '593fde99171c582e1159ec32', '59426ff84f78db50bc498012', '594273a831310003ef600eb2', '5948d67a3bddb555b16ccfe2', '594bc6c251d3f177c344fbd3', '595b86d03bddb5704b6ec402', '595b86de2310a830be53f812', '595f9ee53bddb566016cd7d2', '59649a117cc0c16296703602', '5972115f05346818de4f4b32', '59773b2151d3f103aa5567a2', '59897230ad1d6c74c001f0f2', '59b24878ad1d6c37220141a2', '59ca6fc651d3f1796a1d7ad2', '59cd071ec9fd080534076a03', '59f9e05ac94eac11320880b3', '5a5381b2c9fd08727755e912', '5a54a2a17cc0c1080d1d2a72', '5aabbff930006c0b724954a2', '5ad06cf2ae08b56a814ba0c2', '5ad6fd2dae08b5073a57a922', '5b054f2bae08b5439037cf72', '5b06c36130006c56122ef702', '5b0c183130006c15960ed312', '5b0d2c2eae08b501dc33f612', '5b0d2db8ae08b502dc2678c2', '5b0d2ed630006c75777a4da2', '5b0d3e9f30006c03676082f2', '5b0d414e30006c0597065c82', '5b0d439eae08b514c1437272', '5b0d47d6ae08b518385f5231', '5b0d4c90ae08b51c0a56fe52', '5b0d525630006c1362322c72', '5b0d59bbae08b526ba0c1c82', '5b0d59d330006c1a23388a22', '5b0d59de30006c1a0d31bfe2', '5b0d59fcae08b526fd072b22', '5b0d5a1930006c1a19553c62', '5b0d5a34ae08b527375d2742', '5b0d5a3530006c1a33098a52', '5b0d672430006c252f652ec7', '5b0d6810ae08b532ef790ff2', '5b153848ae08b5647a37e612', '5b1540b7ae08b56b63431461', '5b1546b230006c5981022822', '5b15502a30006c61e37241d6', '5b167938ae08b56c587505b2', '5b167ea2ae08b5706d038dc2', '5b1f75b330006c7845532d82', '5b1f81ce30006c02080f6dc2', '5b1f81ce30006c024a0902f2', '5b1f953fae08b5419925d9e3', '5b225aab30006c67225c5962', '5b225aafae08b57f7f37eb02', '5b2260e1ae08b50578689962', '5b2260e530006c6bed785922', '5b226365ae08b507a86488b2', '5b226368ae08b507b63a5ba2', '5b22766930006c7d844dce42', '5b22766dae08b516df4039d2', '5b2a53b4ae08b547b734ca82', '5b2a53b630006c291a5e0222', '5b2a6196ae08b552961e98a2', '5b2a6199ae08b5526852d532', '5b34ddb930006c580a3e1f12', '5b34ddbd30006c5810036d52', '5b34de1e30006c58472473e2', '5b34df1fae08b571447643a2', '5b34df22ae08b5712a4fc602', '5b4737c9ae08b5545337dc32', '5b4737e0ae08b553ef5dca12', '5b4759dcae08b56d791965f2', '5b4db1a730006c1e95112442', '5b4db1abae08b541442123e2', '5b56fc3c30006c4fda1022f2', '5b56fc3fae08b56efc4d4a42', '5b56fda630006c50aa4553d2', '5b56fdaaae08b570155adfb2', '5b57069630006c5967097712', '5b5706a730006c596709771a', '5b570edc30006c60080ee912', '5b602158ae08b50e223e2e62', '5b60218f30006c71760cc962', '5b634bc830006c133569ae32', '5b634c00ae08b531fe5d0b82', '5b685cb6ae08b5169a13a702', '5b685cb930006c76b62f6372', '5b685d83ae08b5173369fa13', '5b685d8630006c775634d4f2', '5b72acc1ae08b5428b4ddea2', '5b72acc330006c236c5b0cb2', '5b72b06830006c25fc76b802', '5b72b06a30006c25d0481a82', '5b72bf54ae08b551c203c2f2', '5b72bf7f30006c31c5208ea2', '5b7bd71fae08b569bb0d2172', '5b7bd722ae08b56906607c22', '5b83c492ae08b5147a3a1ef2', '5b83d0d130006c7d7b4bb672', '5b894e7dae08b502ba7f4472', '5b8e470130006c4cc0116bf2', '5b8e474130006c4c934bc6b2', '5b8e489bae08b56cf24a53e2', '5b8e4900ae08b56d8e77c202', '5b8e4c1330006c504d43fa22', '5b8e4e53ae08b571b70d8c12', '5b8e4e8f30006c5272778902', '5b8e4e91ae08b571cd0ca362', '5b8e553a30006c57f2510741', '5b8e558030006c584542e392', '5b962cb7ae08b514dd6417a2', '5b962cbcae08b514d73545a2', '5b962cd1ae08b5153508ac82', '5b962cd4ae08b514fe3213e2', '5b962ed530006c79db5b21a2', '5b962ed9ae08b516b96a5d82', '5b962f7bae08b51727726f42', '5b962f80ae08b51726669972', '5ba0b849ae08b505db257672', '5ba0b84c30006c64a929dfc2', '5ba0b87eae08b506715330f2', '5ba0b88030006c64ee4013e2', '5ba0b8c8ae08b506867f0c82', '5ba0b8cb30006c650738ba62', '5ba0b9d730006c65df5a18e2', '5ba0b9dcae08b507c77e36a2', '5ba8ff7f30006c067b44e482', '5ba9054d30006c0b676a5871', '5baa14afae08b50eb73376e2', '5baa14ba30006c6d6f1f6f22', '5bbc72e530006c1d3e306d94', '5bbc72e730006c1d501f2732', '5bbc72ecae08b539e46682c2', '5bbc72efae08b53a561f6962', '5bbc7d6330006c258c486462', '5bbc9f8eae08b5609e6b9112', '5bc484d630006c175d0449f2', '5bc484d930006c17b42856a2', '5bc4a2fdae08b550e141c634', '5bc5b9fd30006c3620677d64', '5bc5bd3aae08b555aa414d62', '5bcde270ae08b554b82eb242', '5bcde977ae08b55b9c7406f2', '5bcee90e30006c26113752a2', '5bcf090630006c4289391e22', '5bd9b1fbae08b57d4765ac02', '5bd9b5b630006c66bd2bbd72', '5be00e00ae08b53a53169942', '5be00e7d30006c1b6d261ae2', '5be01add30006c2606295352', '5be01b0bae08b545502574b2', '5be01b0e30006c265909d502', '5be01b8f30006c26ed11ac12', '5be01b9230006c26f607fdc2', '5be0217430006c2c1754fba2', '5be02843ae08b550f8635ad2', '5be02cce30006c358851c7a4', '5be195d2ae08b52cc30f8a12', '5be195e7ae08b52c92262a92', '5be1960230006c0bc10aa412', '5be971c430006c588937f3a3', '5be99e13ae08b5218e170562', '5be99f04ae08b522d8532fa2', '5bead11e30006c3fe6432d22', '5bead22dae08b561212c7332', '5bf2b98530006c65b94803d6', '5bf2b988ae08b50697059242', '5bf2b98c30006c65bf0a46f2', '5bf2b98f30006c65bf0a46f3', '5bf2c1e1ae08b50d6f334222', '5bf3dfbb30006c13dd2b0f62', '5bfbecf1c445fa4ad24af832', '5bfbecf4c445fa4aa33b9bb2', '5bfbed08c445fa4b011a91e2', '5bfbed0ce3f3394ee2347d72', '5bfbed1bc445fa4b14424fc2', '5bfbed1ec445fa4ad154abe2', '5bfbed5ae3f3394ee2347d73', '5bfbed5ce3f3394f142133a2', '5c0e5a7dc445fa56f26600a2', '5c0e5a81c445fa570421e6a2', '5c0e6300c445fa5e4a4addb2', '5c0e67d4e3f33968474489a2', '5c0e759ac445fa6e704ca188', '5c0e75a7e3f3397462391e82', '5c113ac1c445fa66dc4c7eb2', '5c113ac4c445fa66b22d6582', '5c1a56f2e3f33977824893c2', '5c1a56f7c445fa76aa2a9162', '5c1cda5fc445fa51660386b2', '5c1cddf0e3f3393cae2c0fa2', '5c1cdf42c445fa54fc11b472', '5c309c4de3f33945d37e74e2', '5c309c50e3f339457c6b49d2', '5c309e71e3f339475c112312', '5c30a4d6e3f3394c2d5f84b2', '5c30bb90c445fa36747c59b2', '5c30c44ec445fa3dbb5a80b2', '5c30d44fc445fa4a740eb4e2', '5c30d458e3f339731863c582', '5c30d460c445fa4ac32e09e2', '5c3389dde3f3392d2b0b9822', '5c3389e0e3f3392d4f4174a2', '5c3389f0c445fa7ccd7838b2', '5c3389f9c445fa7cff107cc2', '5c338b10c445fa7dee75cdd2', '5c338b15c445fa7df07525e2']\n"
     ]
    }
   ],
   "source": [
    "print(with_errors)"
   ]
  }
 ],
 "metadata": {
  "kernelspec": {
   "display_name": "Python 3",
   "language": "python",
   "name": "python3"
  },
  "language_info": {
   "codemirror_mode": {
    "name": "ipython",
    "version": 3
   },
   "file_extension": ".py",
   "mimetype": "text/x-python",
   "name": "python",
   "nbconvert_exporter": "python",
   "pygments_lexer": "ipython3",
   "version": "3.8.5"
  }
 },
 "nbformat": 4,
 "nbformat_minor": 4
}
