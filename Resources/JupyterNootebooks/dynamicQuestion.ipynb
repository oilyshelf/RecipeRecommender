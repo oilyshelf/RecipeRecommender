{
 "cells": [
  {
   "cell_type": "code",
   "execution_count": 34,
   "metadata": {},
   "outputs": [],
   "source": [
    "import pandas as pd\n",
    "import numpy as np\n",
    "import sqlite3\n",
    "import os"
   ]
  },
  {
   "cell_type": "markdown",
   "metadata": {
    "pycharm": {
     "name": "#%% md\n"
    }
   },
   "source": [
    "## creating a specific Dataframe recipe => ingredient (bool)\n"
   ]
  },
  {
   "cell_type": "code",
   "execution_count": 35,
   "metadata": {
    "collapsed": false,
    "jupyter": {
     "outputs_hidden": false
    },
    "pycharm": {
     "name": "#%%\n"
    }
   },
   "outputs": [
    {
     "name": "stdout",
     "output_type": "stream",
     "text": [
      "C:\\Users\\whyno\\PycharmProjects\\RecipeRecommender\\Resources\\Data\n"
     ]
    },
    {
     "data": {
      "text/html": [
       "<div>\n",
       "<style scoped>\n",
       "    .dataframe tbody tr th:only-of-type {\n",
       "        vertical-align: middle;\n",
       "    }\n",
       "\n",
       "    .dataframe tbody tr th {\n",
       "        vertical-align: top;\n",
       "    }\n",
       "\n",
       "    .dataframe thead th {\n",
       "        text-align: right;\n",
       "    }\n",
       "</style>\n",
       "<table border=\"1\" class=\"dataframe\">\n",
       "  <thead>\n",
       "    <tr style=\"text-align: right;\">\n",
       "      <th>familyID</th>\n",
       "      <th>58877cf3ed71a76e9c03fb31</th>\n",
       "      <th>58877cf3ed71a76e9c03fb33</th>\n",
       "      <th>58877cf3ed71a76e9c03fb34</th>\n",
       "      <th>58877cf3ed71a76e9c03fb35</th>\n",
       "      <th>58877cf3ed71a76e9c03fb37</th>\n",
       "      <th>58877cf3ed71a76e9c03fb38</th>\n",
       "      <th>58877cf3ed71a76e9c03fb39</th>\n",
       "      <th>58877cf3ed71a76e9c03fb3a</th>\n",
       "      <th>58877cf3ed71a76e9c03fb3b</th>\n",
       "      <th>58877cf3ed71a76e9c03fb3c</th>\n",
       "      <th>...</th>\n",
       "      <th>58877cf3ed71a76e9c03fc54</th>\n",
       "      <th>58877cf3ed71a76e9c03fc57</th>\n",
       "      <th>58877cf3ed71a76e9c03fc58</th>\n",
       "      <th>58877cf3ed71a76e9c03fc59</th>\n",
       "      <th>58877cf3ed71a76e9c03fc5a</th>\n",
       "      <th>58cba71cc6243b4863443ce3</th>\n",
       "      <th>5901b0d4c6243b746b6221f2</th>\n",
       "      <th>5901b0d4c6243b746b6221f7</th>\n",
       "      <th>5901b0d4c6243b746b6221f9</th>\n",
       "      <th>5901b0d4c6243b746b6221fb</th>\n",
       "    </tr>\n",
       "  </thead>\n",
       "  <tbody>\n",
       "    <tr>\n",
       "      <th>count</th>\n",
       "      <td>1808</td>\n",
       "      <td>1808</td>\n",
       "      <td>1808</td>\n",
       "      <td>1808</td>\n",
       "      <td>1808</td>\n",
       "      <td>1808</td>\n",
       "      <td>1808</td>\n",
       "      <td>1808</td>\n",
       "      <td>1808</td>\n",
       "      <td>1808</td>\n",
       "      <td>...</td>\n",
       "      <td>1808</td>\n",
       "      <td>1808</td>\n",
       "      <td>1808</td>\n",
       "      <td>1808</td>\n",
       "      <td>1808</td>\n",
       "      <td>1808</td>\n",
       "      <td>1808</td>\n",
       "      <td>1808</td>\n",
       "      <td>1808</td>\n",
       "      <td>1808</td>\n",
       "    </tr>\n",
       "    <tr>\n",
       "      <th>unique</th>\n",
       "      <td>1</td>\n",
       "      <td>1</td>\n",
       "      <td>1</td>\n",
       "      <td>1</td>\n",
       "      <td>1</td>\n",
       "      <td>1</td>\n",
       "      <td>1</td>\n",
       "      <td>1</td>\n",
       "      <td>1</td>\n",
       "      <td>1</td>\n",
       "      <td>...</td>\n",
       "      <td>1</td>\n",
       "      <td>1</td>\n",
       "      <td>1</td>\n",
       "      <td>1</td>\n",
       "      <td>1</td>\n",
       "      <td>1</td>\n",
       "      <td>1</td>\n",
       "      <td>1</td>\n",
       "      <td>1</td>\n",
       "      <td>1</td>\n",
       "    </tr>\n",
       "    <tr>\n",
       "      <th>top</th>\n",
       "      <td>False</td>\n",
       "      <td>False</td>\n",
       "      <td>False</td>\n",
       "      <td>False</td>\n",
       "      <td>False</td>\n",
       "      <td>False</td>\n",
       "      <td>False</td>\n",
       "      <td>False</td>\n",
       "      <td>False</td>\n",
       "      <td>False</td>\n",
       "      <td>...</td>\n",
       "      <td>False</td>\n",
       "      <td>False</td>\n",
       "      <td>False</td>\n",
       "      <td>False</td>\n",
       "      <td>False</td>\n",
       "      <td>False</td>\n",
       "      <td>False</td>\n",
       "      <td>False</td>\n",
       "      <td>False</td>\n",
       "      <td>False</td>\n",
       "    </tr>\n",
       "    <tr>\n",
       "      <th>freq</th>\n",
       "      <td>1808</td>\n",
       "      <td>1808</td>\n",
       "      <td>1808</td>\n",
       "      <td>1808</td>\n",
       "      <td>1808</td>\n",
       "      <td>1808</td>\n",
       "      <td>1808</td>\n",
       "      <td>1808</td>\n",
       "      <td>1808</td>\n",
       "      <td>1808</td>\n",
       "      <td>...</td>\n",
       "      <td>1808</td>\n",
       "      <td>1808</td>\n",
       "      <td>1808</td>\n",
       "      <td>1808</td>\n",
       "      <td>1808</td>\n",
       "      <td>1808</td>\n",
       "      <td>1808</td>\n",
       "      <td>1808</td>\n",
       "      <td>1808</td>\n",
       "      <td>1808</td>\n",
       "    </tr>\n",
       "  </tbody>\n",
       "</table>\n",
       "<p>4 rows × 224 columns</p>\n",
       "</div>"
      ],
      "text/plain": [
       "familyID 58877cf3ed71a76e9c03fb31 58877cf3ed71a76e9c03fb33  \\\n",
       "count                        1808                     1808   \n",
       "unique                          1                        1   \n",
       "top                         False                    False   \n",
       "freq                         1808                     1808   \n",
       "\n",
       "familyID 58877cf3ed71a76e9c03fb34 58877cf3ed71a76e9c03fb35  \\\n",
       "count                        1808                     1808   \n",
       "unique                          1                        1   \n",
       "top                         False                    False   \n",
       "freq                         1808                     1808   \n",
       "\n",
       "familyID 58877cf3ed71a76e9c03fb37 58877cf3ed71a76e9c03fb38  \\\n",
       "count                        1808                     1808   \n",
       "unique                          1                        1   \n",
       "top                         False                    False   \n",
       "freq                         1808                     1808   \n",
       "\n",
       "familyID 58877cf3ed71a76e9c03fb39 58877cf3ed71a76e9c03fb3a  \\\n",
       "count                        1808                     1808   \n",
       "unique                          1                        1   \n",
       "top                         False                    False   \n",
       "freq                         1808                     1808   \n",
       "\n",
       "familyID 58877cf3ed71a76e9c03fb3b 58877cf3ed71a76e9c03fb3c  ...  \\\n",
       "count                        1808                     1808  ...   \n",
       "unique                          1                        1  ...   \n",
       "top                         False                    False  ...   \n",
       "freq                         1808                     1808  ...   \n",
       "\n",
       "familyID 58877cf3ed71a76e9c03fc54 58877cf3ed71a76e9c03fc57  \\\n",
       "count                        1808                     1808   \n",
       "unique                          1                        1   \n",
       "top                         False                    False   \n",
       "freq                         1808                     1808   \n",
       "\n",
       "familyID 58877cf3ed71a76e9c03fc58 58877cf3ed71a76e9c03fc59  \\\n",
       "count                        1808                     1808   \n",
       "unique                          1                        1   \n",
       "top                         False                    False   \n",
       "freq                         1808                     1808   \n",
       "\n",
       "familyID 58877cf3ed71a76e9c03fc5a 58cba71cc6243b4863443ce3  \\\n",
       "count                        1808                     1808   \n",
       "unique                          1                        1   \n",
       "top                         False                    False   \n",
       "freq                         1808                     1808   \n",
       "\n",
       "familyID 5901b0d4c6243b746b6221f2 5901b0d4c6243b746b6221f7  \\\n",
       "count                        1808                     1808   \n",
       "unique                          1                        1   \n",
       "top                         False                    False   \n",
       "freq                         1808                     1808   \n",
       "\n",
       "familyID 5901b0d4c6243b746b6221f9 5901b0d4c6243b746b6221fb  \n",
       "count                        1808                     1808  \n",
       "unique                          1                        1  \n",
       "top                         False                    False  \n",
       "freq                         1808                     1808  \n",
       "\n",
       "[4 rows x 224 columns]"
      ]
     },
     "execution_count": 35,
     "metadata": {},
     "output_type": "execute_result"
    }
   ],
   "source": [
    "path = os.path.realpath('../Data')\n",
    "print(path)\n",
    "\n",
    "con = sqlite3.connect(path+'/RecipeDB.db')\n",
    "cur = con.cursor()\n",
    "\n",
    "ing_df = pd.read_sql('SELECT familyID FROM IngFamily ', con)\n",
    "recs_df = pd.read_sql('SELECT recID From Recipe', con)\n",
    "\n",
    "index = [x for x in recs_df['recID']]\n",
    "\n",
    "data = np.zeros((len(index), len(ing_df)), dtype= np.bool_)\n",
    "df = pd.DataFrame(data = data, index= index, columns= ing_df[\"familyID\"])\n",
    "df.describe()"
   ]
  },
  {
   "cell_type": "code",
   "execution_count": 36,
   "metadata": {},
   "outputs": [
    {
     "name": "stdout",
     "output_type": "stream",
     "text": [
      "(1808, 224)\n"
     ]
    }
   ],
   "source": [
    "print(df.shape)"
   ]
  },
  {
   "cell_type": "code",
   "execution_count": 38,
   "metadata": {
    "collapsed": false,
    "jupyter": {
     "outputs_hidden": false
    },
    "pycharm": {
     "name": "#%%\n"
    }
   },
   "outputs": [],
   "source": [
    "for ing in cur.execute(\"SELECT familyID, recID FROM IngInRec NATURAL JOIN Ingredients ;\").fetchall():\n",
    "    # print(ing[1])\n",
    "    df.at[ing[1], ing[0]] = True\n",
    "    # print(df.loc[ing[1]][ing[0]])\n",
    "    "
   ]
  },
  {
   "cell_type": "code",
   "execution_count": 39,
   "metadata": {
    "pycharm": {
     "name": "#%%\n"
    }
   },
   "outputs": [
    {
     "data": {
      "text/html": [
       "<div>\n",
       "<style scoped>\n",
       "    .dataframe tbody tr th:only-of-type {\n",
       "        vertical-align: middle;\n",
       "    }\n",
       "\n",
       "    .dataframe tbody tr th {\n",
       "        vertical-align: top;\n",
       "    }\n",
       "\n",
       "    .dataframe thead th {\n",
       "        text-align: right;\n",
       "    }\n",
       "</style>\n",
       "<table border=\"1\" class=\"dataframe\">\n",
       "  <thead>\n",
       "    <tr style=\"text-align: right;\">\n",
       "      <th>familyID</th>\n",
       "      <th>58877cf3ed71a76e9c03fb31</th>\n",
       "      <th>58877cf3ed71a76e9c03fb33</th>\n",
       "      <th>58877cf3ed71a76e9c03fb34</th>\n",
       "      <th>58877cf3ed71a76e9c03fb35</th>\n",
       "      <th>58877cf3ed71a76e9c03fb37</th>\n",
       "      <th>58877cf3ed71a76e9c03fb38</th>\n",
       "      <th>58877cf3ed71a76e9c03fb39</th>\n",
       "      <th>58877cf3ed71a76e9c03fb3a</th>\n",
       "      <th>58877cf3ed71a76e9c03fb3b</th>\n",
       "      <th>58877cf3ed71a76e9c03fb3c</th>\n",
       "      <th>...</th>\n",
       "      <th>58877cf3ed71a76e9c03fc54</th>\n",
       "      <th>58877cf3ed71a76e9c03fc57</th>\n",
       "      <th>58877cf3ed71a76e9c03fc58</th>\n",
       "      <th>58877cf3ed71a76e9c03fc59</th>\n",
       "      <th>58877cf3ed71a76e9c03fc5a</th>\n",
       "      <th>58cba71cc6243b4863443ce3</th>\n",
       "      <th>5901b0d4c6243b746b6221f2</th>\n",
       "      <th>5901b0d4c6243b746b6221f7</th>\n",
       "      <th>5901b0d4c6243b746b6221f9</th>\n",
       "      <th>5901b0d4c6243b746b6221fb</th>\n",
       "    </tr>\n",
       "  </thead>\n",
       "  <tbody>\n",
       "    <tr>\n",
       "      <th>count</th>\n",
       "      <td>1808</td>\n",
       "      <td>1808</td>\n",
       "      <td>1808</td>\n",
       "      <td>1808</td>\n",
       "      <td>1808</td>\n",
       "      <td>1808</td>\n",
       "      <td>1808</td>\n",
       "      <td>1808</td>\n",
       "      <td>1808</td>\n",
       "      <td>1808</td>\n",
       "      <td>...</td>\n",
       "      <td>1808</td>\n",
       "      <td>1808</td>\n",
       "      <td>1808</td>\n",
       "      <td>1808</td>\n",
       "      <td>1808</td>\n",
       "      <td>1808</td>\n",
       "      <td>1808</td>\n",
       "      <td>1808</td>\n",
       "      <td>1808</td>\n",
       "      <td>1808</td>\n",
       "    </tr>\n",
       "    <tr>\n",
       "      <th>unique</th>\n",
       "      <td>2</td>\n",
       "      <td>2</td>\n",
       "      <td>2</td>\n",
       "      <td>2</td>\n",
       "      <td>2</td>\n",
       "      <td>2</td>\n",
       "      <td>2</td>\n",
       "      <td>2</td>\n",
       "      <td>2</td>\n",
       "      <td>2</td>\n",
       "      <td>...</td>\n",
       "      <td>2</td>\n",
       "      <td>2</td>\n",
       "      <td>2</td>\n",
       "      <td>2</td>\n",
       "      <td>2</td>\n",
       "      <td>2</td>\n",
       "      <td>2</td>\n",
       "      <td>2</td>\n",
       "      <td>1</td>\n",
       "      <td>2</td>\n",
       "    </tr>\n",
       "    <tr>\n",
       "      <th>top</th>\n",
       "      <td>False</td>\n",
       "      <td>False</td>\n",
       "      <td>False</td>\n",
       "      <td>False</td>\n",
       "      <td>False</td>\n",
       "      <td>False</td>\n",
       "      <td>False</td>\n",
       "      <td>False</td>\n",
       "      <td>False</td>\n",
       "      <td>False</td>\n",
       "      <td>...</td>\n",
       "      <td>False</td>\n",
       "      <td>False</td>\n",
       "      <td>False</td>\n",
       "      <td>False</td>\n",
       "      <td>False</td>\n",
       "      <td>False</td>\n",
       "      <td>False</td>\n",
       "      <td>False</td>\n",
       "      <td>False</td>\n",
       "      <td>False</td>\n",
       "    </tr>\n",
       "    <tr>\n",
       "      <th>freq</th>\n",
       "      <td>1763</td>\n",
       "      <td>1805</td>\n",
       "      <td>1807</td>\n",
       "      <td>1756</td>\n",
       "      <td>1802</td>\n",
       "      <td>1759</td>\n",
       "      <td>1802</td>\n",
       "      <td>1798</td>\n",
       "      <td>1733</td>\n",
       "      <td>1716</td>\n",
       "      <td>...</td>\n",
       "      <td>1800</td>\n",
       "      <td>1562</td>\n",
       "      <td>1545</td>\n",
       "      <td>1806</td>\n",
       "      <td>1807</td>\n",
       "      <td>1805</td>\n",
       "      <td>1799</td>\n",
       "      <td>1802</td>\n",
       "      <td>1808</td>\n",
       "      <td>1804</td>\n",
       "    </tr>\n",
       "  </tbody>\n",
       "</table>\n",
       "<p>4 rows × 224 columns</p>\n",
       "</div>"
      ],
      "text/plain": [
       "familyID 58877cf3ed71a76e9c03fb31 58877cf3ed71a76e9c03fb33  \\\n",
       "count                        1808                     1808   \n",
       "unique                          2                        2   \n",
       "top                         False                    False   \n",
       "freq                         1763                     1805   \n",
       "\n",
       "familyID 58877cf3ed71a76e9c03fb34 58877cf3ed71a76e9c03fb35  \\\n",
       "count                        1808                     1808   \n",
       "unique                          2                        2   \n",
       "top                         False                    False   \n",
       "freq                         1807                     1756   \n",
       "\n",
       "familyID 58877cf3ed71a76e9c03fb37 58877cf3ed71a76e9c03fb38  \\\n",
       "count                        1808                     1808   \n",
       "unique                          2                        2   \n",
       "top                         False                    False   \n",
       "freq                         1802                     1759   \n",
       "\n",
       "familyID 58877cf3ed71a76e9c03fb39 58877cf3ed71a76e9c03fb3a  \\\n",
       "count                        1808                     1808   \n",
       "unique                          2                        2   \n",
       "top                         False                    False   \n",
       "freq                         1802                     1798   \n",
       "\n",
       "familyID 58877cf3ed71a76e9c03fb3b 58877cf3ed71a76e9c03fb3c  ...  \\\n",
       "count                        1808                     1808  ...   \n",
       "unique                          2                        2  ...   \n",
       "top                         False                    False  ...   \n",
       "freq                         1733                     1716  ...   \n",
       "\n",
       "familyID 58877cf3ed71a76e9c03fc54 58877cf3ed71a76e9c03fc57  \\\n",
       "count                        1808                     1808   \n",
       "unique                          2                        2   \n",
       "top                         False                    False   \n",
       "freq                         1800                     1562   \n",
       "\n",
       "familyID 58877cf3ed71a76e9c03fc58 58877cf3ed71a76e9c03fc59  \\\n",
       "count                        1808                     1808   \n",
       "unique                          2                        2   \n",
       "top                         False                    False   \n",
       "freq                         1545                     1806   \n",
       "\n",
       "familyID 58877cf3ed71a76e9c03fc5a 58cba71cc6243b4863443ce3  \\\n",
       "count                        1808                     1808   \n",
       "unique                          2                        2   \n",
       "top                         False                    False   \n",
       "freq                         1807                     1805   \n",
       "\n",
       "familyID 5901b0d4c6243b746b6221f2 5901b0d4c6243b746b6221f7  \\\n",
       "count                        1808                     1808   \n",
       "unique                          2                        2   \n",
       "top                         False                    False   \n",
       "freq                         1799                     1802   \n",
       "\n",
       "familyID 5901b0d4c6243b746b6221f9 5901b0d4c6243b746b6221fb  \n",
       "count                        1808                     1808  \n",
       "unique                          1                        2  \n",
       "top                         False                    False  \n",
       "freq                         1808                     1804  \n",
       "\n",
       "[4 rows x 224 columns]"
      ]
     },
     "execution_count": 39,
     "metadata": {},
     "output_type": "execute_result"
    }
   ],
   "source": [
    "df.describe()\n",
    "\n"
   ]
  },
  {
   "cell_type": "markdown",
   "metadata": {},
   "source": [
    "## Creating dynamic ingredient-questions"
   ]
  },
  {
   "cell_type": "code",
   "execution_count": 134,
   "metadata": {},
   "outputs": [
    {
     "name": "stdout",
     "output_type": "stream",
     "text": [
      "Magst du Zwiebel  ?\n"
     ]
    },
    {
     "name": "stdin",
     "output_type": "stream",
     "text": [
      " \n"
     ]
    },
    {
     "name": "stdout",
     "output_type": "stream",
     "text": [
      "Magst du Knoblauch  ?\n"
     ]
    },
    {
     "name": "stdin",
     "output_type": "stream",
     "text": [
      " w\n"
     ]
    },
    {
     "name": "stdout",
     "output_type": "stream",
     "text": [
      "Magst du Käse  ?\n"
     ]
    },
    {
     "name": "stdin",
     "output_type": "stream",
     "text": [
      " \n"
     ]
    },
    {
     "name": "stdout",
     "output_type": "stream",
     "text": [
      "Magst du Frühlingszwiebel  ?\n"
     ]
    },
    {
     "name": "stdin",
     "output_type": "stream",
     "text": [
      " \n"
     ]
    },
    {
     "name": "stdout",
     "output_type": "stream",
     "text": [
      "Magst du Kartoffeln  ?\n"
     ]
    },
    {
     "name": "stdin",
     "output_type": "stream",
     "text": [
      " \n"
     ]
    }
   ],
   "source": [
    "test = [(str(i),df[df[i]==True].shape[0]/1808) for i in df.columns]\n",
    "\n",
    "\n",
    "def closest(lst, K):  \n",
    "    l = np.array([i[1] for i in lst])\n",
    "    # print(l) \n",
    "    idx = (np.abs(l - K)).argmin()\n",
    "    return lst[idx]\n",
    "\n",
    "def dynamic(df, l = 5):\n",
    "    for i in range(l):\n",
    "        size = df.shape[0]\n",
    "        percentage_list = [(str(i),df[df[i]==True].shape[0]/size) for i in df.columns]\n",
    "        temp = closest(percentage_list,0.5)\n",
    "        print(\"Magst du\",cur.execute(\"Select familyName from IngFamily where familyID = ?\", (temp[0],)).fetchone()[0],\" ?\")\n",
    "        # some input = True , no input = False\n",
    "        user =bool(input()) # to google api\n",
    "        # here we need to save result into user class\n",
    "        df = df[df[temp[0]] == user]\n",
    "\n",
    "\n",
    "dynamic(df, l = 5)\n",
    "\n"
   ]
  }
 ],
 "metadata": {
  "kernelspec": {
   "display_name": "Python 3",
   "language": "python",
   "name": "python3"
  },
  "language_info": {
   "codemirror_mode": {
    "name": "ipython",
    "version": 3
   },
   "file_extension": ".py",
   "mimetype": "text/x-python",
   "name": "python",
   "nbconvert_exporter": "python",
   "pygments_lexer": "ipython3",
   "version": "3.7.6"
  }
 },
 "nbformat": 4,
 "nbformat_minor": 4
}